{
 "cells": [
  {
   "cell_type": "code",
   "execution_count": null,
   "metadata": {},
   "outputs": [],
   "source": [
    "from collections import defaultdict\n",
    "from itertools import combinations\n",
    "from math import gcd\n",
    "\n",
    "import numpy as np"
   ]
  },
  {
   "cell_type": "code",
   "execution_count": null,
   "metadata": {},
   "outputs": [],
   "source": [
    "def is_in_bounds(x, y):\n",
    "    return 0 <= x < len(lines) and 0 <= y < len(lines[0])"
   ]
  },
  {
   "cell_type": "code",
   "execution_count": null,
   "metadata": {},
   "outputs": [],
   "source": [
    "def get_extensions(coord_1, coord_2, in_bounds=True):\n",
    "    coord_1 = np.array(coord_1)\n",
    "    coord_2 = np.array(coord_2)\n",
    "    d = coord_2 - coord_1\n",
    "    for new_coord in [coord_1 - d, coord_2 + d]:\n",
    "        if in_bounds and not is_in_bounds(*new_coord):\n",
    "            continue\n",
    "        yield tuple(new_coord)"
   ]
  },
  {
   "cell_type": "code",
   "execution_count": null,
   "metadata": {},
   "outputs": [],
   "source": [
    "def all_coord_combos(coords, i=2):\n",
    "    return list(combinations(coords, i))"
   ]
  },
  {
   "cell_type": "code",
   "execution_count": null,
   "metadata": {},
   "outputs": [],
   "source": [
    "# file=\"example\"\n",
    "file=\"input\""
   ]
  },
  {
   "cell_type": "code",
   "execution_count": null,
   "metadata": {},
   "outputs": [],
   "source": [
    "with open(file) as f:\n",
    "    lines = f.read().split(\"\\n\")"
   ]
  },
  {
   "cell_type": "code",
   "execution_count": null,
   "metadata": {},
   "outputs": [],
   "source": [
    "char_locs = defaultdict(list)"
   ]
  },
  {
   "cell_type": "code",
   "execution_count": null,
   "metadata": {},
   "outputs": [],
   "source": [
    "for x, row in enumerate(lines):\n",
    "    for y, char in enumerate(row):\n",
    "        if char != \".\":\n",
    "            char_locs[char].append((x, y))"
   ]
  },
  {
   "cell_type": "code",
   "execution_count": null,
   "metadata": {},
   "outputs": [],
   "source": [
    "extensions = []\n",
    "for char, coords in char_locs.items():\n",
    "    print(char, coords)\n",
    "    for coord_1, coord_2 in all_coord_combos(coords):\n",
    "        extensions.extend(get_extensions(coord_1, coord_2))"
   ]
  },
  {
   "cell_type": "code",
   "execution_count": null,
   "metadata": {},
   "outputs": [],
   "source": [
    "extensions"
   ]
  },
  {
   "cell_type": "code",
   "execution_count": null,
   "metadata": {},
   "outputs": [],
   "source": [
    "len(set(extensions))"
   ]
  },
  {
   "cell_type": "code",
   "execution_count": null,
   "metadata": {},
   "outputs": [],
   "source": [
    "def minimal_unit_vector(vector):\n",
    "    x, y = vector\n",
    "    divisor = gcd(x, y)\n",
    "    return np.array((x // divisor, y // divisor))"
   ]
  },
  {
   "cell_type": "code",
   "execution_count": null,
   "metadata": {},
   "outputs": [],
   "source": [
    "def get_all_extensions(coord_1, coord_2):\n",
    "    coord_1 = np.array(coord_1)\n",
    "    coord_2 = np.array(coord_2)\n",
    "    d = coord_2 - coord_1\n",
    "    d_min = minimal_unit_vector(d)\n",
    "    yield tuple(coord_1)\n",
    "    for coord, dir in [(coord_1, -1), (coord_1, 1)]:\n",
    "        while True:\n",
    "            coord = coord + dir * d_min\n",
    "            if not is_in_bounds(*coord):\n",
    "                break\n",
    "            yield tuple(coord)"
   ]
  },
  {
   "cell_type": "code",
   "execution_count": null,
   "metadata": {},
   "outputs": [],
   "source": [
    "extensions = []\n",
    "for char, coords in char_locs.items():\n",
    "    print(char, coords)\n",
    "    for coord_1, coord_2 in all_coord_combos(coords):\n",
    "        extensions.extend(get_all_extensions(coord_1, coord_2))"
   ]
  },
  {
   "cell_type": "code",
   "execution_count": null,
   "metadata": {},
   "outputs": [],
   "source": [
    "len(set(extensions))"
   ]
  },
  {
   "cell_type": "code",
   "execution_count": null,
   "metadata": {},
   "outputs": [],
   "source": [
    "set(extensions)"
   ]
  },
  {
   "cell_type": "code",
   "execution_count": null,
   "metadata": {},
   "outputs": [],
   "source": []
  }
 ],
 "metadata": {
  "kernelspec": {
   "display_name": "aoc2023",
   "language": "python",
   "name": "python3"
  },
  "language_info": {
   "codemirror_mode": {
    "name": "ipython",
    "version": 3
   },
   "file_extension": ".py",
   "mimetype": "text/x-python",
   "name": "python",
   "nbconvert_exporter": "python",
   "pygments_lexer": "ipython3",
   "version": "3.10.12"
  }
 },
 "nbformat": 4,
 "nbformat_minor": 2
}
