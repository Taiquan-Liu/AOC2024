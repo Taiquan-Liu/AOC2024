{
 "cells": [
  {
   "cell_type": "code",
   "execution_count": null,
   "metadata": {},
   "outputs": [],
   "source": [
    "# file = \"example\"\n",
    "file = \"input\""
   ]
  },
  {
   "cell_type": "code",
   "execution_count": null,
   "metadata": {},
   "outputs": [],
   "source": [
    "with open(file, \"r\") as f:\n",
    "    grid = [x.strip() for x in f.readlines()]"
   ]
  },
  {
   "cell_type": "code",
   "execution_count": null,
   "metadata": {},
   "outputs": [],
   "source": [
    "def find_xmas(grid):\n",
    "    rows = len(grid)\n",
    "    cols = len(grid[0])\n",
    "    target = \"XMAS\"\n",
    "    target_len = len(target)\n",
    "\n",
    "    directions = [\n",
    "        (0, 1),  # horizontal right\n",
    "        (0, -1), # horizontal left\n",
    "        (1, 0),  # vertical down\n",
    "        (-1, 0), # vertical up\n",
    "        (1, 1),  # diagonal down-right\n",
    "        (-1, -1),# diagonal up-left\n",
    "        (1, -1), # diagonal down-left\n",
    "        (-1, 1)  # diagonal up-right\n",
    "    ]\n",
    "\n",
    "    def in_bounds(x, y):\n",
    "        return 0 <= x < rows and 0 <= y < cols\n",
    "\n",
    "    def search_from(x, y, dx, dy):\n",
    "        for i in range(target_len):\n",
    "            nx, ny = x + i * dx, y + i * dy\n",
    "            if not in_bounds(nx, ny) or grid[nx][ny] != target[i]:\n",
    "                return False\n",
    "        return True\n",
    "\n",
    "    found_positions = []\n",
    "    for x in range(rows):\n",
    "        for y in range(cols):\n",
    "            for dx, dy in directions:\n",
    "                if search_from(x, y, dx, dy):\n",
    "                    found_positions.append((x, y, dx, dy))\n",
    "\n",
    "    return found_positions"
   ]
  },
  {
   "cell_type": "code",
   "execution_count": null,
   "metadata": {},
   "outputs": [],
   "source": [
    "positions_q1 = find_xmas(grid)"
   ]
  },
  {
   "cell_type": "code",
   "execution_count": null,
   "metadata": {},
   "outputs": [],
   "source": [
    "len(positions_q1)"
   ]
  },
  {
   "cell_type": "code",
   "execution_count": null,
   "metadata": {},
   "outputs": [],
   "source": [
    "def find_x_mas(grid):\n",
    "    rows = len(grid)\n",
    "    cols = len(grid[0])\n",
    "\n",
    "    directions = [\n",
    "        (-1, -1),# diagonal up-left\n",
    "        (-1, 1),  # diagonal up-right\n",
    "        (1, 1),  # diagonal down-right\n",
    "        (1, -1), # diagonal down-left\n",
    "    ]\n",
    "\n",
    "    def in_bounds(x, y):\n",
    "        return 0 <= x < rows and 0 <= y < cols\n",
    "\n",
    "    center_positions = []\n",
    "    for x in range(rows):\n",
    "        for y in range(cols):\n",
    "            if grid[x][y] != \"A\":\n",
    "                continue\n",
    "            # Center A (x, y)\n",
    "            surroundings = []\n",
    "            for dx, dy in directions:\n",
    "                nx = x + dx\n",
    "                ny = y + dy\n",
    "                if not in_bounds(nx, ny):\n",
    "                    continue\n",
    "                surroundings.append(grid[nx][ny])\n",
    "            if surroundings in [\n",
    "                [\"M\", \"M\", \"S\", \"S\"],\n",
    "                [\"S\", \"S\", \"M\", \"M\"],\n",
    "                [\"M\", \"S\", \"S\", \"M\"],\n",
    "                [\"S\", \"M\", \"M\", \"S\"],\n",
    "            ]:\n",
    "                center_positions.append((x, y))\n",
    "\n",
    "    return center_positions"
   ]
  },
  {
   "cell_type": "code",
   "execution_count": null,
   "metadata": {},
   "outputs": [],
   "source": [
    "positions_q2 = find_x_mas(grid)"
   ]
  },
  {
   "cell_type": "code",
   "execution_count": null,
   "metadata": {},
   "outputs": [],
   "source": [
    "len(positions_q2)"
   ]
  },
  {
   "cell_type": "code",
   "execution_count": null,
   "metadata": {},
   "outputs": [],
   "source": []
  }
 ],
 "metadata": {
  "kernelspec": {
   "display_name": "aoc2023",
   "language": "python",
   "name": "python3"
  },
  "language_info": {
   "codemirror_mode": {
    "name": "ipython",
    "version": 3
   },
   "file_extension": ".py",
   "mimetype": "text/x-python",
   "name": "python",
   "nbconvert_exporter": "python",
   "pygments_lexer": "ipython3",
   "version": "3.10.12"
  }
 },
 "nbformat": 4,
 "nbformat_minor": 2
}
