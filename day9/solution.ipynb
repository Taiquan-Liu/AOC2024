{
 "cells": [
  {
   "cell_type": "code",
   "execution_count": null,
   "metadata": {},
   "outputs": [],
   "source": [
    "from copy import deepcopy\n",
    "from collections import deque\n",
    "\n",
    "import pandas as pd\n",
    "import numpy as np"
   ]
  },
  {
   "cell_type": "code",
   "execution_count": null,
   "metadata": {},
   "outputs": [],
   "source": [
    "def generate_files(disk_map: str):\n",
    "    \"\"\"Turn `12345` into `0..111....22222`\"\"\"\n",
    "    disk_map = list(map(int, disk_map))\n",
    "    files = []\n",
    "    file_id = 0\n",
    "    for i, n in enumerate(disk_map):\n",
    "        if not i % 2:\n",
    "            files.extend([file_id] * n)\n",
    "            file_id += 1\n",
    "        else:\n",
    "            files.extend([None] * n)\n",
    "    return files"
   ]
  },
  {
   "cell_type": "code",
   "execution_count": null,
   "metadata": {},
   "outputs": [],
   "source": [
    "files = deque(generate_files(\"2333133121414131402\"))"
   ]
  },
  {
   "cell_type": "code",
   "execution_count": null,
   "metadata": {},
   "outputs": [],
   "source": [
    "def swap_files(files: list):\n",
    "    files = deepcopy(files)\n",
    "    files_dq: deque = deque(files)\n",
    "    result = 0\n",
    "    for i, file_id in enumerate(files):\n",
    "        if i >= len(files_dq):\n",
    "            break\n",
    "        if file_id is not None:\n",
    "            # print(f\"{i}*{file_id}\")\n",
    "            # print(files_dq)\n",
    "            result += i * file_id\n",
    "            continue\n",
    "        while True:\n",
    "            last_file = files_dq.pop()\n",
    "            if last_file is not None:\n",
    "                break\n",
    "        if i >= len(files_dq):\n",
    "            break\n",
    "        files_dq[i] = last_file\n",
    "        # print(f\"{i}*{last_file}\")\n",
    "        # print(files_dq)\n",
    "        result += i * last_file\n",
    "    return (\n",
    "        result,\n",
    "        # files_dq,\n",
    "    )"
   ]
  },
  {
   "cell_type": "code",
   "execution_count": null,
   "metadata": {},
   "outputs": [],
   "source": [
    "# file = \"example\"\n",
    "file = \"input\""
   ]
  },
  {
   "cell_type": "code",
   "execution_count": null,
   "metadata": {},
   "outputs": [],
   "source": [
    "with open(file) as f:\n",
    "    disk_map = f.read().strip()"
   ]
  },
  {
   "cell_type": "code",
   "execution_count": null,
   "metadata": {},
   "outputs": [],
   "source": [
    "files = generate_files(disk_map)"
   ]
  },
  {
   "cell_type": "code",
   "execution_count": null,
   "metadata": {},
   "outputs": [],
   "source": [
    "swap_files(files)"
   ]
  },
  {
   "cell_type": "code",
   "execution_count": null,
   "metadata": {},
   "outputs": [],
   "source": [
    "# def move_files_in_blocks(files):\n",
    "#     files = deepcopy(files)\n",
    "#     files_dq: deque = deque(files)\n",
    "#     id = 0\n",
    "#     result = 0\n",
    "#     while True:\n",
    "#         # First, find the last block of files.\n",
    "#         last_file_block = []\n",
    "#         # We know that at the beginning, the last file is not None.\n",
    "#         while files_dq:\n",
    "#             last_file = files_dq[-1]\n",
    "#             if last_file is None:\n",
    "#                 if last_file_block:\n",
    "#                     # It must mean that the last block is over.\n",
    "#                     break\n",
    "#                 # Skip the Nones at the end.\n",
    "#                 files_dq.pop()\n",
    "#                 continue\n",
    "#             if last_file_block and last_file != last_file_block[-1]:\n",
    "#                 # It must mean that the last block is over.\n",
    "#                 break\n",
    "#             last_file_block.append(last_file)\n",
    "#             files_dq.pop()\n",
    "\n",
    "#         # Backup the deque and result at this point in case the move fails.\n",
    "#         files_dq_copy = deepcopy(files_dq)\n",
    "#         result_copy = result\n",
    "#         # Success flag for moving the last block.\n",
    "#         succeed = False\n",
    "\n",
    "#         # Then, find the first block of Nones that can hold the last block.\n",
    "#         first_none_block = []\n",
    "#         while files_dq:\n",
    "#             if len(first_none_block) == len(last_file_block):\n",
    "#                 # The Nones in the beginning are big enough to hold the last\n",
    "#                 # block. Calculate the result and move on to the next loop.\n",
    "#                 i = id - 1\n",
    "#                 for file in last_file_block:\n",
    "#                     result += i * file\n",
    "#                     i -= 1\n",
    "#                 succeed = True\n",
    "#                 break\n",
    "\n",
    "#             first_file = files_dq[0]\n",
    "#             if first_file is not None:\n",
    "#                 if first_none_block:\n",
    "#                     # It must mean that the Nones in the beginning are not big\n",
    "#                     # enough to hold the last block. Reset the first_none_block.\n",
    "#                     first_none_block = []\n",
    "#                 # Calculate the result since it is not None.\n",
    "#                 result += id * first_file\n",
    "#                 files_dq.popleft()\n",
    "#                 id += 1\n",
    "#                 continue\n",
    "\n",
    "#             # It is a None. Add it to the first_none_block.\n",
    "#             first_none_block.append(first_file)\n",
    "#             files_dq.popleft()\n",
    "#             id += 1\n",
    "\n",
    "#         if not succeed:\n",
    "#             # The last block cannot be moved. Restore the deque and result.\n",
    "#             files_dq = files_dq_copy\n",
    "#             result = result_copy\n",
    "\n",
    "#     return (\n",
    "#         result,\n",
    "#         files_dq,\n",
    "#     )\n",
    "\n",
    "\n"
   ]
  },
  {
   "cell_type": "code",
   "execution_count": null,
   "metadata": {},
   "outputs": [],
   "source": [
    "def move_files_in_blocks(files: pd.Series):\n",
    "    files = deepcopy(files)\n",
    "    last_block_id = files.iloc[-1]\n",
    "    i = len(files) - 1\n",
    "    while last_block_id != 0:\n",
    "        # First, find the last block of files.\n",
    "        last_file_block = []\n",
    "        # We know that at the beginning, the last file is not None.\n",
    "        while True:\n",
    "            last_file = files[i]\n",
    "            if np.isnan(last_file):\n",
    "                if last_file_block:\n",
    "                    # It must mean that the last block is over.\n",
    "                    break\n",
    "                # Skip the Nones at the end.\n",
    "                i -= 1\n",
    "                continue\n",
    "            if last_file_block and last_file != last_file_block[-1]:\n",
    "                # It must mean that the last block is over.\n",
    "                break\n",
    "            if last_file != last_block_id:\n",
    "                i -= 1\n",
    "                continue\n",
    "            last_file_block.append(last_file)\n",
    "            i -= 1\n",
    "\n",
    "        last_block_id = last_file_block[-1] - 1\n",
    "\n",
    "        # Then, find the first block of Nones that can hold the last block.\n",
    "        first_none_block = []\n",
    "        j = 0\n",
    "        while j < i:\n",
    "            if len(first_none_block) == len(last_file_block):\n",
    "                # The Nones in the beginning are big enough to hold the last\n",
    "                # block. Calculate the result and move on to the next loop.\n",
    "                print(f\"Swaping {last_file_block} with {first_none_block}\")\n",
    "                files[j-len(last_file_block): j] = last_file_block\n",
    "                files[i+1: i+1+len(last_file_block)] = first_none_block\n",
    "                break\n",
    "\n",
    "            first_file = files[j]\n",
    "            if not np.isnan(first_file):\n",
    "                if first_none_block:\n",
    "                    # It must mean that the Nones in the beginning are not big\n",
    "                    # enough to hold the last block. Reset the first_none_block.\n",
    "                    first_none_block = []\n",
    "                j += 1\n",
    "                continue\n",
    "\n",
    "            # It is a None. Add it to the first_none_block.\n",
    "            first_none_block.append(first_file)\n",
    "            j += 1\n",
    "\n",
    "    return files\n"
   ]
  },
  {
   "cell_type": "code",
   "execution_count": null,
   "metadata": {},
   "outputs": [],
   "source": [
    "def calculate_result(files: pd.Series):\n",
    "    result = 0\n",
    "    for i, file in enumerate(files):\n",
    "        if not np.isnan(file):\n",
    "            result += i * file\n",
    "    return result"
   ]
  },
  {
   "cell_type": "code",
   "execution_count": null,
   "metadata": {},
   "outputs": [],
   "source": [
    "result_files = move_files_in_blocks(pd.Series(files))"
   ]
  },
  {
   "cell_type": "code",
   "execution_count": null,
   "metadata": {},
   "outputs": [],
   "source": [
    "print(result_files.to_list())"
   ]
  },
  {
   "cell_type": "code",
   "execution_count": null,
   "metadata": {},
   "outputs": [],
   "source": [
    "calculate_result(result_files)"
   ]
  },
  {
   "cell_type": "code",
   "execution_count": null,
   "metadata": {},
   "outputs": [],
   "source": [
    "# Copy other's solution\n",
    "\n",
    "from itertools import zip_longest\n",
    "from collections import deque\n",
    "\n",
    "\n",
    "def parse_input(path: str) -> str:\n",
    "    with open(path, \"r\") as input:\n",
    "        return input.read().strip()\n",
    "\n",
    "\n",
    "def solve(input: str) -> int:\n",
    "    # (ID, (block, free))\n",
    "    files = list(\n",
    "        enumerate(\n",
    "            zip_longest(\n",
    "                list(map(int, input[::2])), list(map(int, input[1::2])), fillvalue=0\n",
    "            )\n",
    "        )\n",
    "    )\n",
    "    total = 0\n",
    "    file_queue = deque(files)\n",
    "    free_spaces: list[tuple[int, int]] = []  # (start_index, length)\n",
    "    pointer = 0\n",
    "\n",
    "    for file in files:\n",
    "        pointer += file[1][0]\n",
    "        if file[1][1] > 0:\n",
    "            free_spaces.append((pointer, file[1][1]))\n",
    "        pointer += file[1][1]\n",
    "\n",
    "    while len(file_queue) > 0:\n",
    "        file_index, (block_amount, _) = file_queue.pop()\n",
    "        before = sum([blocks + space for _, (blocks, space) in list(file_queue)])\n",
    "        fit = next((space for space in free_spaces if space[1] >= block_amount), None)\n",
    "        if fit is not None and fit[0] < before:\n",
    "            if fit[1] > block_amount:\n",
    "                free_spaces[free_spaces.index(fit)] = (\n",
    "                    fit[0] + block_amount,\n",
    "                    fit[1] - block_amount,\n",
    "                )\n",
    "            else:\n",
    "                free_spaces.remove(fit)\n",
    "            for pos in range(fit[0], fit[0] + block_amount):\n",
    "                total += file_index * pos\n",
    "            free_spaces.append((before, block_amount))\n",
    "            free_spaces.sort(key=lambda x: x[0])\n",
    "        else:\n",
    "            for pos in range(before, before + block_amount):\n",
    "                total += pos * file_index\n",
    "    return total"
   ]
  },
  {
   "cell_type": "code",
   "execution_count": null,
   "metadata": {},
   "outputs": [],
   "source": [
    "solve(parse_input(\"input\"))"
   ]
  },
  {
   "cell_type": "code",
   "execution_count": null,
   "metadata": {},
   "outputs": [],
   "source": []
  }
 ],
 "metadata": {
  "kernelspec": {
   "display_name": "aoc2023",
   "language": "python",
   "name": "python3"
  },
  "language_info": {
   "codemirror_mode": {
    "name": "ipython",
    "version": 3
   },
   "file_extension": ".py",
   "mimetype": "text/x-python",
   "name": "python",
   "nbconvert_exporter": "python",
   "pygments_lexer": "ipython3",
   "version": "3.10.12"
  }
 },
 "nbformat": 4,
 "nbformat_minor": 2
}
