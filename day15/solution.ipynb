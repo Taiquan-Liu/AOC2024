{
 "cells": [
  {
   "cell_type": "code",
   "execution_count": null,
   "metadata": {},
   "outputs": [],
   "source": [
    "def load_map(input_data):\n",
    "    lines = input_data.strip().split('\\n')\n",
    "    # Find where the map ends (first empty line)\n",
    "    map_end = 0\n",
    "    for i, line in enumerate(lines):\n",
    "        if not line.strip():\n",
    "            map_end = i\n",
    "            break\n",
    "\n",
    "    map_lines = [list(line) for line in lines[:map_end]]\n",
    "    moves = ''.join(lines[map_end+1:]).strip()\n",
    "    return map_lines, moves"
   ]
  },
  {
   "cell_type": "code",
   "execution_count": null,
   "metadata": {},
   "outputs": [],
   "source": [
    "def find_robot(map_grid):\n",
    "    for y in range(len(map_grid)):\n",
    "        for x in range(len(map_grid[y])):\n",
    "            if map_grid[y][x] == '@':\n",
    "                return (x, y)\n",
    "    return None"
   ]
  },
  {
   "cell_type": "code",
   "execution_count": null,
   "metadata": {},
   "outputs": [],
   "source": [
    "def find_boxes(map_grid, shape='O'):\n",
    "    boxes = []\n",
    "    for y in range(len(map_grid)):\n",
    "        for x in range(len(map_grid[y])):\n",
    "            if map_grid[y][x] in (shape):\n",
    "                boxes.append((x, y))\n",
    "    return boxes"
   ]
  },
  {
   "cell_type": "code",
   "execution_count": null,
   "metadata": {},
   "outputs": [],
   "source": [
    "def find_wrong_boxes(map_grid, wrong_shape=\".]\"):\n",
    "    wrong_boxes = []\n",
    "    for y in range(len(map_grid)):\n",
    "        for x in range(len(map_grid[y]) - 1):\n",
    "            if map_grid[y][x] == wrong_shape[0] and map_grid[y][x+1] == wrong_shape[1]:\n",
    "                wrong_boxes.append((x, y))\n",
    "    return wrong_boxes"
   ]
  },
  {
   "cell_type": "code",
   "execution_count": null,
   "metadata": {},
   "outputs": [],
   "source": [
    "def get_box_score(boxes):\n",
    "    return sum(100*j + i for i, j in boxes)"
   ]
  },
  {
   "cell_type": "code",
   "execution_count": null,
   "metadata": {},
   "outputs": [],
   "source": [
    "def get_move_delta(move):\n",
    "    if move == '^': return (0, -1)\n",
    "    if move == 'v': return (0, 1)\n",
    "    if move == '<': return (-1, 0)\n",
    "    if move == '>': return (1, 0)\n",
    "    return (0, 0)"
   ]
  },
  {
   "cell_type": "code",
   "execution_count": null,
   "metadata": {},
   "outputs": [],
   "source": [
    "def check_push_line(map_grid, start_x, start_y, dx, dy):\n",
    "    \"\"\"Check line of boxes in push direction, return list of box positions\"\"\"\n",
    "    boxes = []\n",
    "    x, y = start_x, start_y\n",
    "\n",
    "    while map_grid[y][x] == 'O':\n",
    "        boxes.append((x, y))\n",
    "        x += dx\n",
    "        y += dy\n",
    "        if map_grid[y][x] == '#':\n",
    "            return None  # Hit wall, push not possible\n",
    "\n",
    "    if map_grid[y][x] == '.':\n",
    "        return boxes\n",
    "    return None"
   ]
  },
  {
   "cell_type": "code",
   "execution_count": null,
   "metadata": {},
   "outputs": [],
   "source": [
    "def simulate_moves(map_grid, moves):\n",
    "    robot_pos = find_robot(map_grid)\n",
    "    map_grid[robot_pos[1]][robot_pos[0]] = '.'\n",
    "\n",
    "    for move in moves:\n",
    "        dx, dy = get_move_delta(move)\n",
    "        new_x = robot_pos[0] + dx\n",
    "        new_y = robot_pos[1] + dy\n",
    "\n",
    "        # Check if move is valid\n",
    "        if map_grid[new_y][new_x] == '#':\n",
    "            continue\n",
    "\n",
    "        # Check if there's a box\n",
    "        if map_grid[new_y][new_x] == 'O':\n",
    "            boxes = check_push_line(map_grid, new_x, new_y, dx, dy)\n",
    "            if boxes:\n",
    "                # Move all boxes\n",
    "                for box_x, box_y in reversed(boxes):\n",
    "                    map_grid[box_y + dy][box_x + dx] = 'O'\n",
    "                    map_grid[box_y][box_x] = '.'\n",
    "                robot_pos = (new_x, new_y)\n",
    "            continue\n",
    "\n",
    "        # Move robot\n",
    "        if map_grid[new_y][new_x] == '.':\n",
    "            robot_pos = (new_x, new_y)\n",
    "\n",
    "\n",
    "    # Place robot in final position\n",
    "    map_grid[robot_pos[1]][robot_pos[0]] = '@'\n",
    "    return map_grid"
   ]
  },
  {
   "cell_type": "code",
   "execution_count": null,
   "metadata": {},
   "outputs": [],
   "source": [
    "def print_map(map_grid):\n",
    "    for row in map_grid:\n",
    "        print(''.join(row))"
   ]
  },
  {
   "cell_type": "code",
   "execution_count": null,
   "metadata": {},
   "outputs": [],
   "source": [
    "def solve(input_data):\n",
    "    map_grid, moves = load_map(input_data)\n",
    "    final_state = simulate_moves(map_grid, moves)\n",
    "    return final_state"
   ]
  },
  {
   "cell_type": "code",
   "execution_count": null,
   "metadata": {},
   "outputs": [],
   "source": [
    "# file = \"example-mini\"\n",
    "# file = \"example-mini-2\"\n",
    "# file = \"example\"\n",
    "file = \"input\""
   ]
  },
  {
   "cell_type": "code",
   "execution_count": null,
   "metadata": {},
   "outputs": [],
   "source": [
    "with open(file) as f:\n",
    "    input_data = f.read()"
   ]
  },
  {
   "cell_type": "code",
   "execution_count": null,
   "metadata": {},
   "outputs": [],
   "source": [
    "result = solve(input_data)"
   ]
  },
  {
   "cell_type": "code",
   "execution_count": null,
   "metadata": {},
   "outputs": [],
   "source": [
    "print_map(result)"
   ]
  },
  {
   "cell_type": "code",
   "execution_count": null,
   "metadata": {},
   "outputs": [],
   "source": [
    "get_box_score(find_boxes(result))"
   ]
  },
  {
   "cell_type": "code",
   "execution_count": null,
   "metadata": {},
   "outputs": [],
   "source": [
    "def double_width_map(map_grid):\n",
    "    \"\"\"\n",
    "    Transform map grid to double width format\n",
    "    Input: 2D list of characters\n",
    "    Output: 2D list of characters with doubled width\n",
    "    \"\"\"\n",
    "    new_map = []\n",
    "    for row in map_grid:\n",
    "        new_row = []\n",
    "        for char in row:\n",
    "            if char == '@':\n",
    "                new_row.extend(['@', '.'])  # Robot with padding\n",
    "            elif char == 'O':\n",
    "                new_row.extend(['[', ']'])\n",
    "            elif char == '#':\n",
    "                new_row.extend(['#', '#'])\n",
    "            elif char == '.':\n",
    "                new_row.extend(['.', '.'])\n",
    "        new_map.append(new_row)\n",
    "    return new_map"
   ]
  },
  {
   "cell_type": "code",
   "execution_count": null,
   "metadata": {},
   "outputs": [],
   "source": [
    "def check_box_at(map_grid, x, y):\n",
    "    \"\"\"\n",
    "    Check if position is part of a box (either [ or ])\n",
    "    Returns tuple ((left_x, y), (right_x, y)) if box found, None otherwise\n",
    "    \"\"\"\n",
    "    if x < 0 or y < 0 or y >= len(map_grid) or x >= len(map_grid[0]):\n",
    "        return None\n",
    "\n",
    "    # Check if we're at left half\n",
    "    if map_grid[y][x] == '[' and x+1 < len(map_grid[0]) and map_grid[y][x+1] == ']':\n",
    "        return ((x, y), (x+1, y))\n",
    "\n",
    "    # Check if we're at right half\n",
    "    if x > 0 and map_grid[y][x] == ']' and map_grid[y][x-1] == '[':\n",
    "        return ((x-1, y), (x, y))\n",
    "\n",
    "    return None"
   ]
  },
  {
   "cell_type": "code",
   "execution_count": null,
   "metadata": {},
   "outputs": [],
   "source": [
    "def find_pushable_boxes(map_grid, start_x, start_y, dx, dy):\n",
    "    \"\"\"Find all boxes that can be pushed from this position\"\"\"\n",
    "    boxes = []  # List of ((left_x, y), (right_x, y)) tuples\n",
    "    checked = set()  # Set of (x, y) tuples for all box halves\n",
    "\n",
    "    def check_row(x, y):\n",
    "        # Skip if we've checked this position\n",
    "        if (x, y) in checked:\n",
    "            return True\n",
    "\n",
    "        # Get box at current position\n",
    "        box = check_box_at(map_grid, x, y)\n",
    "        if not box:\n",
    "            return True\n",
    "\n",
    "        (left, right) = box\n",
    "        # Skip if we've checked either half of this box\n",
    "        if left in checked or right in checked:\n",
    "            return True\n",
    "\n",
    "        checked.add(left)\n",
    "        checked.add(right)\n",
    "        boxes.append(box)\n",
    "\n",
    "        # Calculate next positions\n",
    "        next_y = y + dy\n",
    "\n",
    "        # Check if next position hits wall\n",
    "        if map_grid[next_y][left[0]] == '#' or map_grid[next_y][right[0]] == '#':\n",
    "            return False\n",
    "\n",
    "        if dy != 0:  # Vertical movement\n",
    "            # Check boxes in next row that overlap with current box\n",
    "            for next_x in (left[0], right[0]):\n",
    "                next_box = check_box_at(map_grid, next_x, next_y)\n",
    "                if next_box:\n",
    "                    if not check_row(next_box[0][0], next_y):\n",
    "                        return False\n",
    "            return True\n",
    "\n",
    "        else:  # Horizontal movement\n",
    "            if dx < 0:\n",
    "                next_x = left[0] + dx\n",
    "            if dx > 0:\n",
    "                next_x = right[0] + dx\n",
    "\n",
    "            # Check if next position hits wall\n",
    "            if map_grid[next_y][next_x] == '#':\n",
    "                return False\n",
    "\n",
    "            next_box = check_box_at(map_grid, next_x, next_y)\n",
    "            if next_box:\n",
    "                return check_row(next_box[0][0], next_y)\n",
    "            return True\n",
    "\n",
    "    # Start checking from initial position\n",
    "    initial_box = check_box_at(map_grid, start_x, start_y)\n",
    "    if initial_box and check_row(initial_box[0][0], start_y):\n",
    "        return boxes\n",
    "    return None"
   ]
  },
  {
   "cell_type": "code",
   "execution_count": null,
   "metadata": {},
   "outputs": [],
   "source": [
    "import copy"
   ]
  },
  {
   "cell_type": "code",
   "execution_count": null,
   "metadata": {},
   "outputs": [],
   "source": [
    "def simulate_moves(map_grid, moves):\n",
    "    robot_pos = find_robot(map_grid)\n",
    "    map_grid[robot_pos[1]][robot_pos[0]] = '.'\n",
    "\n",
    "    for i, move in enumerate(moves):\n",
    "        dx, dy = get_move_delta(move)\n",
    "        new_x = robot_pos[0] + dx  # Remove //2 to keep original movement\n",
    "        new_y = robot_pos[1] + dy\n",
    "\n",
    "        # # Debug print\n",
    "        # map_grid_plot = copy.deepcopy(map_grid)\n",
    "        # map_grid_plot[robot_pos[1]][robot_pos[0]] = '@'\n",
    "        # print_map(map_grid_plot)\n",
    "        # print()\n",
    "        # print(move)\n",
    "\n",
    "        # Check boundaries and walls\n",
    "        if map_grid[new_y][new_x] == '#':\n",
    "            continue\n",
    "\n",
    "        # Move robot\n",
    "        if map_grid[new_y][new_x] == '.':\n",
    "            robot_pos = (new_x, new_y)\n",
    "\n",
    "        # Check for boxes\n",
    "        if check_box_at(map_grid, new_x, new_y):\n",
    "            boxes = find_pushable_boxes(map_grid, new_x, new_y, dx, dy)\n",
    "            if boxes:\n",
    "                # Sort boxes based on movement direction\n",
    "                if dx < 0:  # Moving left, place from left to right\n",
    "                    boxes.sort(key=lambda box: box[0][0])\n",
    "                elif dx > 0:  # Moving right, place from right to left\n",
    "                    boxes.sort(key=lambda box: box[0][0], reverse=True)\n",
    "                elif dy < 0:  # Moving up, place from top to bottom\n",
    "                    boxes.sort(key=lambda box: box[0][1])\n",
    "                elif dy > 0:  # Moving down, place from bottom to top\n",
    "                    boxes.sort(key=lambda box: box[0][1], reverse=True)\n",
    "\n",
    "                # First clear all boxes\n",
    "                for (left, right) in boxes:\n",
    "                    map_grid[left[1]][left[0]] = '.'\n",
    "                    map_grid[right[1]][right[0]] = '.'\n",
    "\n",
    "                # Then place all boxes in sorted order\n",
    "                for (left, right) in boxes:\n",
    "                    map_grid[left[1] + dy][left[0] + dx] = '['\n",
    "                    map_grid[right[1] + dy][right[0] + dx] = ']'\n",
    "\n",
    "                robot_pos = (new_x, new_y)\n",
    "            continue\n",
    "\n",
    "\n",
    "    # Place robot in final position\n",
    "    map_grid[robot_pos[1]][robot_pos[0]] = '@'\n",
    "    return map_grid"
   ]
  },
  {
   "cell_type": "code",
   "execution_count": null,
   "metadata": {},
   "outputs": [],
   "source": [
    "map_grid, moves = load_map(input_data)\n",
    "map_grid = double_width_map(map_grid)"
   ]
  },
  {
   "cell_type": "code",
   "execution_count": null,
   "metadata": {},
   "outputs": [],
   "source": [
    "result = simulate_moves(map_grid, moves)"
   ]
  },
  {
   "cell_type": "code",
   "execution_count": null,
   "metadata": {},
   "outputs": [],
   "source": [
    "find_wrong_boxes(result)"
   ]
  },
  {
   "cell_type": "code",
   "execution_count": null,
   "metadata": {},
   "outputs": [],
   "source": [
    "print_map(result)"
   ]
  },
  {
   "cell_type": "code",
   "execution_count": null,
   "metadata": {},
   "outputs": [],
   "source": [
    "get_box_score(find_boxes(result, shape='['))"
   ]
  },
  {
   "cell_type": "markdown",
   "metadata": {},
   "source": [
    "Debug cases"
   ]
  },
  {
   "cell_type": "code",
   "execution_count": null,
   "metadata": {},
   "outputs": [],
   "source": [
    "map_grid = \"\"\"\n",
    "####################\n",
    "##....[]....[]..[]##\n",
    "##............[]..##\n",
    "##..[][]....[]..[]##\n",
    "##...[]...[]..[]..##\n",
    "##[]##....[]......##\n",
    "##[][]@.......[]..##\n",
    "##.....[]..[].[][]##\n",
    "##........[]......##\n",
    "####################\n",
    "\"\"\".strip().split('\\n')\n",
    "\n",
    "map_grid = [list(row) for row in map_grid]\n",
    "move = \"<\""
   ]
  },
  {
   "cell_type": "code",
   "execution_count": null,
   "metadata": {},
   "outputs": [],
   "source": [
    "map_grid = \"\"\"\n",
    "####################\n",
    "##....[]....[]..[]##\n",
    "##............[]..##\n",
    "##..[][]....[]..[]##\n",
    "##...[]...[]..[]..##\n",
    "##..##....[]......##\n",
    "##...[].......[]..##\n",
    "##....[]...[].[][]##\n",
    "##.....@..[]......##\n",
    "####################\n",
    "\"\"\".strip().split('\\n')\n",
    "\n",
    "map_grid = [list(row) for row in map_grid]\n",
    "move = \"^\""
   ]
  },
  {
   "cell_type": "code",
   "execution_count": null,
   "metadata": {},
   "outputs": [],
   "source": [
    "map_grid = \"\"\"\n",
    "####################\n",
    "##....[]....[]..[]##\n",
    "##............[]..##\n",
    "##..[][]....[]..[]##\n",
    "##...[]...[]..[]..##\n",
    "##..#.[]..[]......##\n",
    "##...[].......[]..##\n",
    "##....[]...[].[][]##\n",
    "##.....@..[]......##\n",
    "####################\n",
    "\"\"\".strip().split('\\n')\n",
    "\n",
    "map_grid = [list(row) for row in map_grid]\n",
    "move = \"^\""
   ]
  },
  {
   "cell_type": "code",
   "execution_count": null,
   "metadata": {},
   "outputs": [],
   "source": [
    "map_grid = \"\"\"\n",
    "####################\n",
    "##....[]....[]..[]##\n",
    "##............[]..##\n",
    "##..[][]....[]..[]##\n",
    "##...[]...[]..[]..##\n",
    "##[]##....[]......##\n",
    "##[][].@......[]..##\n",
    "##.....[]..[].[][]##\n",
    "##........[]......##\n",
    "####################\n",
    "\"\"\".strip().split('\\n')\n",
    "\n",
    "map_grid = [list(row) for row in map_grid]\n",
    "move = \"<\""
   ]
  },
  {
   "cell_type": "code",
   "execution_count": null,
   "metadata": {},
   "outputs": [],
   "source": [
    "map_grid = \"\"\"\n",
    "####################\n",
    "##[]..[]....[]..[]##\n",
    "##[]..........[]..##\n",
    "##.@[][]....[]..[]##\n",
    "##...[]...[]..[]..##\n",
    "##..##....[]......##\n",
    "##...[].......[]..##\n",
    "##.....[]..[].[][]##\n",
    "##........[]......##\n",
    "####################\n",
    "\"\"\".strip().split('\\n')\n",
    "\n",
    "map_grid = [list(row) for row in map_grid]\n",
    "move = \">\""
   ]
  },
  {
   "cell_type": "code",
   "execution_count": null,
   "metadata": {},
   "outputs": [],
   "source": [
    "map_grid = \"\"\"\n",
    "####################\n",
    "##[]..[]....[]..[]##\n",
    "##[]..........[]..##\n",
    "##.........@[][][]##\n",
    "##....[]..[]..[]..##\n",
    "##..##....[]......##\n",
    "##...[]...[]..[]..##\n",
    "##.....[]..[].[][]##\n",
    "##........[]......##\n",
    "####################\n",
    "\"\"\".strip().split('\\n')\n",
    "\n",
    "map_grid = [list(row) for row in map_grid]\n",
    "move = \"v\""
   ]
  },
  {
   "cell_type": "code",
   "execution_count": null,
   "metadata": {},
   "outputs": [],
   "source": [
    "map_grid = \"\"\"\n",
    "####################\n",
    "##[]..[]....[]..[]##\n",
    "##[]..........[]..##\n",
    "##..........[][][]##\n",
    "##.....[].[]..[]..##\n",
    "##..##[][][]......##\n",
    "##..[].[].[]..[]..##\n",
    "##...[]@...[].[][]##\n",
    "##........[]......##\n",
    "####################\n",
    "\"\"\".strip().split('\\n')\n",
    "\n",
    "map_grid = [list(row) for row in map_grid]\n",
    "move = \"^\""
   ]
  },
  {
   "cell_type": "code",
   "execution_count": null,
   "metadata": {},
   "outputs": [],
   "source": [
    "result = simulate_moves(map_grid, move)\n",
    "print_map(result)"
   ]
  },
  {
   "cell_type": "code",
   "execution_count": null,
   "metadata": {},
   "outputs": [],
   "source": []
  }
 ],
 "metadata": {
  "kernelspec": {
   "display_name": "aoc2023",
   "language": "python",
   "name": "python3"
  },
  "language_info": {
   "codemirror_mode": {
    "name": "ipython",
    "version": 3
   },
   "file_extension": ".py",
   "mimetype": "text/x-python",
   "name": "python",
   "nbconvert_exporter": "python",
   "pygments_lexer": "ipython3",
   "version": "3.10.12"
  }
 },
 "nbformat": 4,
 "nbformat_minor": 2
}
