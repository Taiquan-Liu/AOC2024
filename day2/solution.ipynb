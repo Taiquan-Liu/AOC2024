{
 "cells": [
  {
   "cell_type": "code",
   "execution_count": null,
   "metadata": {},
   "outputs": [],
   "source": [
    "import pandas as pd\n",
    "import numpy as np"
   ]
  },
  {
   "cell_type": "code",
   "execution_count": null,
   "metadata": {},
   "outputs": [],
   "source": [
    "# file = \"example\"\n",
    "file = \"input\""
   ]
  },
  {
   "cell_type": "code",
   "execution_count": null,
   "metadata": {},
   "outputs": [],
   "source": [
    "with open(file, \"r\") as f:\n",
    "    data = [list(map(int, line.split())) for line in f]"
   ]
  },
  {
   "cell_type": "code",
   "execution_count": null,
   "metadata": {},
   "outputs": [],
   "source": [
    "df = pd.DataFrame(data)\n",
    "df"
   ]
  },
  {
   "cell_type": "code",
   "execution_count": null,
   "metadata": {},
   "outputs": [],
   "source": [
    "def is_monotonic_with_gap_under_limit(row, low_limit=1, high_limit=3):\n",
    "    row = row.dropna()\n",
    "    return (\n",
    "        np.all(np.diff(row) >= 0) or\n",
    "        np.all(np.diff(row) <= 0)\n",
    "    ) and (\n",
    "        np.min(np.abs(np.diff(row))) >= low_limit and\n",
    "        np.max(np.abs(np.diff(row))) <= high_limit\n",
    "    )\n"
   ]
  },
  {
   "cell_type": "code",
   "execution_count": null,
   "metadata": {},
   "outputs": [],
   "source": [
    "df.apply(lambda row: is_monotonic_with_gap_under_limit(row), axis=1).sum()"
   ]
  },
  {
   "cell_type": "code",
   "execution_count": null,
   "metadata": {},
   "outputs": [],
   "source": [
    "# There might be a smarter and faster way to solve this, e.g. removing the\n",
    "# min/max value of the np.diff(row) first. But I'm using work time to do this\n",
    "# so...\n",
    "def fits_rules_after_removal(row):\n",
    "    row = row.dropna()\n",
    "    if is_monotonic_with_gap_under_limit(row):\n",
    "        return True\n",
    "    for i in range(len(row)):\n",
    "        new_row = row.drop(row.index[i])\n",
    "        if is_monotonic_with_gap_under_limit(new_row):\n",
    "            return True\n",
    "    return False"
   ]
  },
  {
   "cell_type": "code",
   "execution_count": null,
   "metadata": {},
   "outputs": [],
   "source": [
    "df.apply(lambda row: fits_rules_after_removal(row), axis=1).sum()"
   ]
  },
  {
   "cell_type": "code",
   "execution_count": null,
   "metadata": {},
   "outputs": [],
   "source": []
  }
 ],
 "metadata": {
  "kernelspec": {
   "display_name": "aoc2023",
   "language": "python",
   "name": "python3"
  },
  "language_info": {
   "codemirror_mode": {
    "name": "ipython",
    "version": 3
   },
   "file_extension": ".py",
   "mimetype": "text/x-python",
   "name": "python",
   "nbconvert_exporter": "python",
   "pygments_lexer": "ipython3",
   "version": "3.10.12"
  }
 },
 "nbformat": 4,
 "nbformat_minor": 2
}
