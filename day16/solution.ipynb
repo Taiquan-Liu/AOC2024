{
 "cells": [
  {
   "cell_type": "code",
   "execution_count": 5,
   "metadata": {},
   "outputs": [],
   "source": [
    "from collections import defaultdict\n",
    "from dataclasses import dataclass, field\n",
    "from typing import List, Set, Tuple, Dict\n",
    "import heapq\n",
    "from enum import Enum"
   ]
  },
  {
   "cell_type": "code",
   "execution_count": null,
   "metadata": {},
   "outputs": [],
   "source": [
    "class Direction(Enum):\n",
    "    FORWARD = (0, 1)  # Initially facing east\n",
    "    RIGHT = (1, 0)    # 90° clockwise\n",
    "    BACKWARD = (0, -1) # 180° turn\n",
    "    LEFT = (-1, 0)    # 90° counterclockwise\n",
    "\n",
    "    def turn_left(self):\n",
    "        return {\n",
    "            Direction.FORWARD: Direction.LEFT,\n",
    "            Direction.LEFT: Direction.BACKWARD,\n",
    "            Direction.BACKWARD: Direction.RIGHT,\n",
    "            Direction.RIGHT: Direction.FORWARD\n",
    "            }[self]\n",
    "\n",
    "    def turn_right(self):\n",
    "        return {\n",
    "            Direction.FORWARD: Direction.RIGHT,\n",
    "            Direction.RIGHT: Direction.BACKWARD,\n",
    "            Direction.BACKWARD: Direction.LEFT,\n",
    "            Direction.LEFT: Direction.FORWARD\n",
    "        }[self]"
   ]
  },
  {
   "cell_type": "code",
   "execution_count": 7,
   "metadata": {},
   "outputs": [],
   "source": [
    "@dataclass(frozen=True, order=True)\n",
    "class State:\n",
    "    # Add a compare_key field that will be used for ordering\n",
    "    compare_key: tuple = field(init=False, repr=False)\n",
    "    row: int\n",
    "    col: int\n",
    "    direction: Direction\n",
    "\n",
    "    def __post_init__(self):\n",
    "        # Create a tuple for comparison\n",
    "        object.__setattr__(self, 'compare_key', (self.row, self.col, self.direction.value))"
   ]
  },
  {
   "cell_type": "code",
   "execution_count": null,
   "metadata": {},
   "outputs": [],
   "source": [
    "def solve_maze(maze: List[str]) -> int:\n",
    "    # Find start and end positions\n",
    "    start_pos = end_pos = None\n",
    "    for i, row in enumerate(maze):\n",
    "        for j, cell in enumerate(row):\n",
    "            if cell == 'S':\n",
    "                start_pos = (i, j)\n",
    "            elif cell == 'E':\n",
    "                end_pos = (i, j)\n",
    "\n",
    "    # Initialize distances dictionary and priority queue\n",
    "    distances = {}\n",
    "    start_state = State(start_pos[0], start_pos[1], Direction.FORWARD)\n",
    "    distances[start_state] = 0\n",
    "    pq = [(0, start_state)]\n",
    "    seen = set()\n",
    "\n",
    "    while pq:\n",
    "        current_cost, current_state = heapq.heappop(pq)\n",
    "\n",
    "        if (current_state.row, current_state.col) == end_pos:\n",
    "            return current_cost\n",
    "\n",
    "        if current_state in seen:\n",
    "            continue\n",
    "\n",
    "        seen.add(current_state)\n",
    "\n",
    "        # Try moving forward\n",
    "        dr, dc = current_state.direction.value\n",
    "        new_row, new_col = current_state.row + dr, current_state.col + dc\n",
    "\n",
    "        if (0 <= new_row < len(maze) and\n",
    "            0 <= new_col < len(maze[0]) and\n",
    "            maze[new_row][new_col] != '#'):\n",
    "            new_state = State(new_row, new_col, current_state.direction)\n",
    "            new_cost = current_cost + 1\n",
    "            if new_state not in distances or new_cost < distances[new_state]:\n",
    "                distances[new_state] = new_cost\n",
    "                heapq.heappush(pq, (new_cost, new_state))\n",
    "\n",
    "        # Try turning left/right\n",
    "        for new_direction in [current_state.direction.turn_left(),\n",
    "                            current_state.direction.turn_right()]:\n",
    "            new_state = State(current_state.row, current_state.col, new_direction)\n",
    "            new_cost = current_cost + 1000\n",
    "            if new_state not in distances or new_cost < distances[new_state]:\n",
    "                distances[new_state] = new_cost\n",
    "                heapq.heappush(pq, (new_cost, new_state))\n",
    "\n",
    "    return float('inf')  # No path found"
   ]
  },
  {
   "cell_type": "code",
   "execution_count": 14,
   "metadata": {},
   "outputs": [],
   "source": [
    "file = \"example-mini\"\n",
    "# file = \"example\"\n",
    "# file = \"input\""
   ]
  },
  {
   "cell_type": "code",
   "execution_count": 15,
   "metadata": {},
   "outputs": [],
   "source": [
    "with open(file) as f:\n",
    "    maze = f.read().strip().split('\\n')"
   ]
  },
  {
   "cell_type": "code",
   "execution_count": 16,
   "metadata": {},
   "outputs": [
    {
     "data": {
      "text/plain": [
       "7036"
      ]
     },
     "execution_count": 16,
     "metadata": {},
     "output_type": "execute_result"
    }
   ],
   "source": [
    "solve_maze(maze)"
   ]
  },
  {
   "cell_type": "code",
   "execution_count": 30,
   "metadata": {},
   "outputs": [],
   "source": [
    "def find_all_possible_paths(maze: List[str]) -> List[List[Tuple[int, int]]]:\n",
    "    def dfs(pos: Tuple[int, int], direction: Direction,\n",
    "           current_path: List[Tuple[int, int]],\n",
    "           turns_at_pos: Dict[Tuple[int, int], Set[Direction]],\n",
    "           all_paths: List[List[Tuple[int, int]]]) -> None:\n",
    "\n",
    "        row, col = pos\n",
    "\n",
    "        # Found end\n",
    "        if maze[row][col] == 'E':\n",
    "            all_paths.append(current_path[:])\n",
    "            return\n",
    "\n",
    "        # Try moving forward first\n",
    "        dr, dc = direction.value\n",
    "        new_row, new_col = row + dr, col + dc\n",
    "\n",
    "        if (0 <= new_row < len(maze) and\n",
    "            0 <= new_col < len(maze[0]) and\n",
    "            maze[new_row][new_col] != '#' and\n",
    "            (new_row, new_col) not in current_path):\n",
    "            current_path.append((new_row, new_col))\n",
    "            dfs((new_row, new_col), direction, current_path, turns_at_pos, all_paths)\n",
    "            current_path.pop()\n",
    "\n",
    "        # Try turning only if we can't move forward or haven't tried this direction\n",
    "        else:\n",
    "            for new_direction in [direction.turn_left(), direction.turn_right()]:\n",
    "                # Check if we've already tried this direction at this position\n",
    "                if pos not in turns_at_pos:\n",
    "                    turns_at_pos[pos] = set()\n",
    "                if new_direction not in turns_at_pos[pos]:\n",
    "                    turns_at_pos[pos].add(new_direction)\n",
    "                    dfs(pos, new_direction, current_path, turns_at_pos, all_paths)\n",
    "                    turns_at_pos[pos].remove(new_direction)\n",
    "\n",
    "    # Find start position\n",
    "    start_pos = None\n",
    "    for i, row in enumerate(maze):\n",
    "        for j, cell in enumerate(row):\n",
    "            if cell == 'S':\n",
    "                start_pos = (i, j)\n",
    "                break\n",
    "        if start_pos:\n",
    "            break\n",
    "\n",
    "    all_paths = []\n",
    "    turns_at_pos = {}\n",
    "    dfs(start_pos, Direction.FORWARD, [start_pos], turns_at_pos, all_paths)\n",
    "    return all_paths"
   ]
  },
  {
   "cell_type": "code",
   "execution_count": 31,
   "metadata": {},
   "outputs": [
    {
     "data": {
      "text/plain": [
       "[]"
      ]
     },
     "execution_count": 31,
     "metadata": {},
     "output_type": "execute_result"
    }
   ],
   "source": [
    "find_all_possible_paths(maze)"
   ]
  },
  {
   "cell_type": "code",
   "execution_count": 25,
   "metadata": {},
   "outputs": [
    {
     "data": {
      "text/plain": [
       "37"
      ]
     },
     "execution_count": 25,
     "metadata": {},
     "output_type": "execute_result"
    }
   ],
   "source": [
    "len(union)"
   ]
  },
  {
   "cell_type": "code",
   "execution_count": 32,
   "metadata": {},
   "outputs": [],
   "source": [
    "from dataclasses import dataclass\n",
    "from heapq import heappop, heappush\n",
    "\n",
    "from sys import maxsize\n",
    "\n",
    "\n",
    "@dataclass(eq=True, frozen=True)\n",
    "class State:\n",
    "    cost: int\n",
    "    position: complex\n",
    "    orientation: complex\n",
    "\n",
    "    def __lt__(self, other):\n",
    "        return self.cost < other.cost\n",
    "\n",
    "\n",
    "def day16(filename):\n",
    "    print()\n",
    "    print(filename)\n",
    "\n",
    "    part1 = maxsize\n",
    "    part2 = 0\n",
    "\n",
    "    paths = set()\n",
    "    with open(filename) as puzzle:\n",
    "        for row, line in enumerate(puzzle):\n",
    "            for col, cell in enumerate(line.strip()):\n",
    "                if cell == \"#\":\n",
    "                    continue\n",
    "\n",
    "                pos = complex(row, col)\n",
    "                paths.add(pos)\n",
    "                if cell == \"S\":\n",
    "                    start = pos\n",
    "                elif cell == \"E\":\n",
    "                    end = pos\n",
    "\n",
    "    start_state = State(0, start, 1j)\n",
    "    states = [(start_state, [start_state])]\n",
    "    end_states = set()\n",
    "\n",
    "    best_cost = {(start, 1j): 0}\n",
    "\n",
    "    while states:\n",
    "        state, path = heappop(states)\n",
    "        if state.position == end:\n",
    "            if state.cost <= part1:\n",
    "                part1 = state.cost\n",
    "                end_states.add((state, tuple(path)))\n",
    "\n",
    "            continue\n",
    "\n",
    "        for d in (1, 1j, -1j):\n",
    "            direction = state.orientation * d\n",
    "            look = state.position + direction\n",
    "            if look in paths:\n",
    "                cost = state.cost + 1 + 1000 * (state.orientation != direction)\n",
    "                new_state = State(cost, look, direction)\n",
    "                if best_cost.get((new_state.position, direction), maxsize) < cost:\n",
    "                    continue\n",
    "\n",
    "                heappush(states, (new_state, path + [new_state]))\n",
    "                best_cost[(look, direction)] = cost\n",
    "\n",
    "    best_seats = set.union(*[{s.position for s in path} for _, path in end_states])\n",
    "    part2 = len(best_seats)\n",
    "    print(\"part1\", part1)\n",
    "    print(\"part2\", part2)\n",
    "    return part1, part2\n"
   ]
  },
  {
   "cell_type": "code",
   "execution_count": 34,
   "metadata": {},
   "outputs": [
    {
     "name": "stdout",
     "output_type": "stream",
     "text": [
      "\n",
      "input\n",
      "part1 74392\n",
      "part2 426\n"
     ]
    },
    {
     "data": {
      "text/plain": [
       "(74392, 426)"
      ]
     },
     "execution_count": 34,
     "metadata": {},
     "output_type": "execute_result"
    }
   ],
   "source": [
    "day16(\"input\")"
   ]
  },
  {
   "cell_type": "code",
   "execution_count": null,
   "metadata": {},
   "outputs": [],
   "source": []
  }
 ],
 "metadata": {
  "kernelspec": {
   "display_name": "aoc2023",
   "language": "python",
   "name": "python3"
  },
  "language_info": {
   "codemirror_mode": {
    "name": "ipython",
    "version": 3
   },
   "file_extension": ".py",
   "mimetype": "text/x-python",
   "name": "python",
   "nbconvert_exporter": "python",
   "pygments_lexer": "ipython3",
   "version": "2.7.18"
  }
 },
 "nbformat": 4,
 "nbformat_minor": 2
}
