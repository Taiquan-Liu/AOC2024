{
 "cells": [
  {
   "cell_type": "code",
   "execution_count": null,
   "metadata": {},
   "outputs": [],
   "source": [
    "def find_regions(grid):\n",
    "    if not grid or not grid[0]:\n",
    "        return []\n",
    "\n",
    "    rows = len(grid)\n",
    "    cols = len(grid[0])\n",
    "    visited = set()\n",
    "    regions = []\n",
    "\n",
    "    def flood_fill(r, c, letter):\n",
    "        # Return if out of bounds, different letter, or already visited\n",
    "        if (r < 0 or r >= rows or c < 0 or c >= cols or\n",
    "            grid[r][c] != letter):\n",
    "            return 0, 0\n",
    "        elif (r,c) in visited:\n",
    "            return 0, 0\n",
    "\n",
    "        visited.add((r,c))\n",
    "        size = 1\n",
    "        interface = 0\n",
    "\n",
    "        # Only count right and down interfaces to avoid double counting\n",
    "        if c + 1 < cols and grid[r][c+1] == letter:\n",
    "            interface += 1\n",
    "        if r + 1 < rows and grid[r+1][c] == letter:\n",
    "            interface += 1\n",
    "\n",
    "        # Explore 4 directions\n",
    "        directions = [(0,1), (1,0), (0,-1), (-1,0)]\n",
    "        for dr, dc in directions:\n",
    "            added_size, added_interface = flood_fill(r+dr, c+dc, letter)\n",
    "            size += added_size\n",
    "            interface += added_interface\n",
    "\n",
    "        return size, interface\n",
    "\n",
    "    # Explore each unvisited cell\n",
    "    for r in range(rows):\n",
    "        for c in range(cols):\n",
    "            if (r,c) not in visited:\n",
    "                letter = grid[r][c]\n",
    "                size, interface = flood_fill(r, c, letter)\n",
    "                regions.append((letter, size, interface))\n",
    "\n",
    "    # Sort regions by letter and size\n",
    "    regions.sort(key=lambda x: (x[0], -x[1]))\n",
    "    return regions"
   ]
  },
  {
   "cell_type": "code",
   "execution_count": null,
   "metadata": {},
   "outputs": [],
   "source": [
    "def get_perimeter(area, interface):\n",
    "    return 4 * area - 2 * interface"
   ]
  },
  {
   "cell_type": "code",
   "execution_count": null,
   "metadata": {},
   "outputs": [],
   "source": [
    "def get_price(region):\n",
    "    letter, size, interface = region\n",
    "    area = size\n",
    "    perimeter = get_perimeter(area, interface)\n",
    "    return area *  perimeter"
   ]
  },
  {
   "cell_type": "code",
   "execution_count": null,
   "metadata": {},
   "outputs": [],
   "source": [
    "def find_regions_q2(grid):\n",
    "    if not grid or not grid[0]:\n",
    "        return []\n",
    "\n",
    "    rows = len(grid)\n",
    "    cols = len(grid[0])\n",
    "    visited = set()\n",
    "    regions = []\n",
    "\n",
    "    def flood_fill(r, c, letter):\n",
    "        # Return if out of bounds, different letter, or already visited\n",
    "        if (r < 0 or r >= rows or c < 0 or c >= cols or\n",
    "            grid[r][c] != letter):\n",
    "            return 0, set()\n",
    "        elif (r,c) in visited:\n",
    "            return 0, set()\n",
    "\n",
    "        visited.add((r,c))\n",
    "        size = 1\n",
    "        # Track cell edges that form the boundary\n",
    "        edges = set()\n",
    "\n",
    "        # Check all 4 directions for boundaries\n",
    "        if r == 0 or grid[r-1][c] != letter:\n",
    "            edges.add((r,c,'N'))  # North edge\n",
    "        if r == rows-1 or grid[r+1][c] != letter:\n",
    "            edges.add((r,c,'S'))  # South edge\n",
    "        if c == 0 or grid[r][c-1] != letter:\n",
    "            edges.add((r,c,'W'))  # West edge\n",
    "        if c == cols-1 or grid[r][c+1] != letter:\n",
    "            edges.add((r,c,'E'))  # East edge\n",
    "\n",
    "        # Explore 4 directions\n",
    "        directions = [(0,1), (1,0), (0,-1), (-1,0)]\n",
    "        for dr, dc in directions:\n",
    "            added_size, added_edges = flood_fill(r+dr, c+dc, letter)\n",
    "            size += added_size\n",
    "            edges.update(added_edges)\n",
    "\n",
    "        return size, edges\n",
    "\n",
    "    def count_sides(edges):\n",
    "        # Convert edges to sides by merging continuous edges in same direction\n",
    "        sides = 0\n",
    "        # Group edges by direction\n",
    "        north = {(r,c) for r,c,d in edges if d == 'N'}\n",
    "        south = {(r,c) for r,c,d in edges if d == 'S'}\n",
    "        west = {(r,c) for r,c,d in edges if d == 'W'}\n",
    "        east = {(r,c) for r,c,d in edges if d == 'E'}\n",
    "\n",
    "        # For horizontal edges (E/W), group by column\n",
    "        for edge_group in [west, east]:\n",
    "            if not edge_group:\n",
    "                continue\n",
    "            # Group by column\n",
    "            by_col = {}\n",
    "            for r,c in edge_group:\n",
    "                by_col.setdefault(c, []).append(r)\n",
    "\n",
    "            # For each column, find continuous sequences\n",
    "            for col_edges in by_col.values():\n",
    "                col_edges.sort()  # Sort rows in this column\n",
    "                prev_r = col_edges[0]\n",
    "                sides += 1\n",
    "                for r in col_edges[1:]:\n",
    "                    if r != prev_r + 1:  # Gap in sequence\n",
    "                        sides += 1\n",
    "                    prev_r = r\n",
    "\n",
    "        # For vertical edges (N/S), group by row\n",
    "        for edge_group in [north, south]:\n",
    "            if not edge_group:\n",
    "                continue\n",
    "            # Group by row\n",
    "            by_row = {}\n",
    "            for r,c in edge_group:\n",
    "                by_row.setdefault(r, []).append(c)\n",
    "\n",
    "            # For each row, find continuous sequences\n",
    "            for row_edges in by_row.values():\n",
    "                row_edges.sort()  # Sort columns in this row\n",
    "                prev_c = row_edges[0]\n",
    "                sides += 1\n",
    "                for c in row_edges[1:]:\n",
    "                    if c != prev_c + 1:  # Gap in sequence\n",
    "                        sides += 1\n",
    "                    prev_c = c\n",
    "\n",
    "        return sides\n",
    "\n",
    "    # Explore each unvisited cell\n",
    "    for r in range(rows):\n",
    "        for c in range(cols):\n",
    "            if (r,c) not in visited:\n",
    "                letter = grid[r][c]\n",
    "                size, edges = flood_fill(r, c, letter)\n",
    "                sides = count_sides(edges)\n",
    "                regions.append((letter, size, sides))\n",
    "\n",
    "    # Sort regions by letter and size\n",
    "    regions.sort(key=lambda x: (x[0], -x[1]))\n",
    "    return regions"
   ]
  },
  {
   "cell_type": "code",
   "execution_count": null,
   "metadata": {},
   "outputs": [],
   "source": [
    "def get_price_q2(region):\n",
    "    letter, size, sides = region\n",
    "    return size * sides"
   ]
  },
  {
   "cell_type": "code",
   "execution_count": null,
   "metadata": {},
   "outputs": [],
   "source": [
    "edges = {(5, 2, 'E'),\n",
    "   (5, 2, 'N'),\n",
    "   (5, 2, 'W'),\n",
    "   (6, 2, 'W'),\n",
    "   (6, 3, 'N'),\n",
    "   (6, 4, 'E'),\n",
    "   (6, 4, 'N'),\n",
    "   (7, 1, 'N'),\n",
    "   (7, 1, 'W'),\n",
    "   (7, 4, 'S'),\n",
    "   (7, 5, 'E'),\n",
    "   (7, 5, 'N'),\n",
    "   (8, 1, 'S'),\n",
    "   (8, 1, 'W'),\n",
    "   (8, 2, 'S'),\n",
    "   (8, 3, 'E'),\n",
    "   (8, 5, 'E'),\n",
    "   (8, 5, 'S'),\n",
    "   (8, 5, 'W'),\n",
    "   (9, 3, 'E'),\n",
    "   (9, 3, 'S'),\n",
    "   (9, 3, 'W')}"
   ]
  },
  {
   "cell_type": "code",
   "execution_count": null,
   "metadata": {},
   "outputs": [],
   "source": [
    "count_sides(edges)"
   ]
  },
  {
   "cell_type": "code",
   "execution_count": null,
   "metadata": {},
   "outputs": [],
   "source": [
    "# file = \"example\"\n",
    "file = \"input\""
   ]
  },
  {
   "cell_type": "code",
   "execution_count": null,
   "metadata": {},
   "outputs": [],
   "source": [
    "with open(file) as f:\n",
    "    grid = [list(line.strip()) for line in f]"
   ]
  },
  {
   "cell_type": "code",
   "execution_count": null,
   "metadata": {},
   "outputs": [],
   "source": [
    "find_regions(grid)"
   ]
  },
  {
   "cell_type": "code",
   "execution_count": null,
   "metadata": {},
   "outputs": [],
   "source": [
    "sum(get_price(region) for region in find_regions(grid))"
   ]
  },
  {
   "cell_type": "code",
   "execution_count": null,
   "metadata": {},
   "outputs": [],
   "source": [
    "find_regions_q2(grid)"
   ]
  },
  {
   "cell_type": "code",
   "execution_count": null,
   "metadata": {},
   "outputs": [],
   "source": [
    "sum(get_price_q2(region) for region in find_regions_q2(grid))"
   ]
  },
  {
   "cell_type": "code",
   "execution_count": null,
   "metadata": {},
   "outputs": [],
   "source": []
  }
 ],
 "metadata": {
  "kernelspec": {
   "display_name": "aoc2023",
   "language": "python",
   "name": "python3"
  },
  "language_info": {
   "codemirror_mode": {
    "name": "ipython",
    "version": 3
   },
   "file_extension": ".py",
   "mimetype": "text/x-python",
   "name": "python",
   "nbconvert_exporter": "python",
   "pygments_lexer": "ipython3",
   "version": "3.10.12"
  }
 },
 "nbformat": 4,
 "nbformat_minor": 2
}
