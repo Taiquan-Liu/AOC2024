{
 "cells": [
  {
   "cell_type": "code",
   "execution_count": null,
   "metadata": {},
   "outputs": [],
   "source": [
    "from itertools import product"
   ]
  },
  {
   "cell_type": "code",
   "execution_count": null,
   "metadata": {},
   "outputs": [],
   "source": [
    "def evaluate_expression_left_to_right(numbers, operators):\n",
    "    result = numbers[0]\n",
    "    for i in range(1, len(numbers)):\n",
    "        if operators[i-1] == '+':\n",
    "            result += numbers[i]\n",
    "        elif operators[i-1] == '*':\n",
    "            result *= numbers[i]\n",
    "    return result"
   ]
  },
  {
   "cell_type": "code",
   "execution_count": null,
   "metadata": {},
   "outputs": [],
   "source": [
    "def evaluate_expression(numbers, operators):\n",
    "    expression = str(numbers[0])\n",
    "    for i in range(1, len(numbers)):\n",
    "        expression += operators[i-1] + str(numbers[i])\n",
    "    return eval(expression)"
   ]
  },
  {
   "cell_type": "code",
   "execution_count": null,
   "metadata": {},
   "outputs": [],
   "source": [
    "def find_valid_expression(target, numbers):\n",
    "    n = len(numbers)\n",
    "    for operators in product('+*', repeat=n-1):\n",
    "        # if evaluate_expression(numbers, operators) == target:\n",
    "        if evaluate_expression_left_to_right(numbers, operators) == target:\n",
    "            expression = str(numbers[0])\n",
    "            for i in range(1, len(numbers)):\n",
    "                expression += operators[i-1] + str(numbers[i])\n",
    "            return expression\n",
    "    return None"
   ]
  },
  {
   "cell_type": "code",
   "execution_count": null,
   "metadata": {},
   "outputs": [],
   "source": [
    "def solve_equation(line):\n",
    "    left, right = line.split(':')\n",
    "    target = int(left.strip())\n",
    "    numbers = list(map(int, right.strip().split()))\n",
    "\n",
    "    valid_expression = find_valid_expression(target, numbers)\n",
    "    if valid_expression:\n",
    "        print(f\"{target}: {valid_expression}\")\n",
    "        return target\n",
    "    else:\n",
    "        print(f\"{target}: No solution\")\n",
    "        return 0"
   ]
  },
  {
   "cell_type": "code",
   "execution_count": null,
   "metadata": {},
   "outputs": [],
   "source": [
    "# file = \"example\"\n",
    "file = \"input\""
   ]
  },
  {
   "cell_type": "code",
   "execution_count": null,
   "metadata": {},
   "outputs": [],
   "source": [
    "with open(file, 'r') as f:\n",
    "    lines = f.readlines()"
   ]
  },
  {
   "cell_type": "code",
   "execution_count": null,
   "metadata": {},
   "outputs": [],
   "source": [
    "all_working_targets = []\n",
    "for line in lines:\n",
    "    all_working_targets.append(solve_equation(line))"
   ]
  },
  {
   "cell_type": "code",
   "execution_count": null,
   "metadata": {},
   "outputs": [],
   "source": [
    "sum(all_working_targets)"
   ]
  },
  {
   "cell_type": "code",
   "execution_count": null,
   "metadata": {},
   "outputs": [],
   "source": [
    "def evaluate_expression_q2(numbers, operators):\n",
    "    # # Paid the price for not reading the question properly\n",
    "    # numbers = copy.deepcopy(numbers)\n",
    "    # pipe_indexes = [i for i, op in enumerate(operators) if op == '|']\n",
    "    # for pipe in pipe_indexes:\n",
    "    #     numbers[pipe] = eval(f\"{numbers[pipe]}{numbers[pipe+1]}\")\n",
    "    # numbers = [\n",
    "    #     item for i, item in enumerate(numbers) if i-1 not in pipe_indexes\n",
    "    # ]\n",
    "    # operators = [\n",
    "    #     op for i, op in enumerate(operators) if i not in pipe_indexes\n",
    "    # ]\n",
    "\n",
    "    result = numbers[0]\n",
    "    for i in range(1, len(numbers)):\n",
    "        if operators[i-1] == '+':\n",
    "            result += numbers[i]\n",
    "        elif operators[i-1] == '*':\n",
    "            result *= numbers[i]\n",
    "        elif operators[i-1] == '|':\n",
    "            result = eval(f\"{result}{numbers[i]}\")\n",
    "    return result"
   ]
  },
  {
   "cell_type": "code",
   "execution_count": null,
   "metadata": {},
   "outputs": [],
   "source": [
    "def find_valid_expression_q2(target, numbers):\n",
    "    n = len(numbers)\n",
    "    for operators in product('+*|', repeat=n-1):\n",
    "        if evaluate_expression_q2(numbers, list(operators)) == target:\n",
    "            return True"
   ]
  },
  {
   "cell_type": "code",
   "execution_count": null,
   "metadata": {},
   "outputs": [],
   "source": [
    "def solve_equation_q2(line):\n",
    "    left, right = line.split(':')\n",
    "    target = int(left.strip())\n",
    "    numbers = list(map(int, right.strip().split()))\n",
    "\n",
    "    if find_valid_expression_q2(target, numbers):\n",
    "        return target\n",
    "    else:\n",
    "        return 0"
   ]
  },
  {
   "cell_type": "code",
   "execution_count": null,
   "metadata": {},
   "outputs": [],
   "source": [
    "all_working_targets = []\n",
    "for line in lines:\n",
    "    all_working_targets.append(solve_equation_q2(line))"
   ]
  },
  {
   "cell_type": "code",
   "execution_count": null,
   "metadata": {},
   "outputs": [],
   "source": [
    "all_working_targets"
   ]
  },
  {
   "cell_type": "code",
   "execution_count": null,
   "metadata": {},
   "outputs": [],
   "source": [
    "sum(all_working_targets)"
   ]
  },
  {
   "cell_type": "code",
   "execution_count": null,
   "metadata": {},
   "outputs": [],
   "source": []
  }
 ],
 "metadata": {
  "kernelspec": {
   "display_name": "aoc2023",
   "language": "python",
   "name": "python3"
  },
  "language_info": {
   "codemirror_mode": {
    "name": "ipython",
    "version": 3
   },
   "file_extension": ".py",
   "mimetype": "text/x-python",
   "name": "python",
   "nbconvert_exporter": "python",
   "pygments_lexer": "ipython3",
   "version": "3.10.12"
  }
 },
 "nbformat": 4,
 "nbformat_minor": 2
}
