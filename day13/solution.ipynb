{
 "cells": [
  {
   "cell_type": "code",
   "execution_count": null,
   "metadata": {},
   "outputs": [],
   "source": [
    "import numpy as np\n",
    "import sympy as sp"
   ]
  },
  {
   "cell_type": "code",
   "execution_count": null,
   "metadata": {},
   "outputs": [],
   "source": [
    "def process_input(text):\n",
    "    cases = text.strip().split('\\n\\n')\n",
    "    for case in cases:\n",
    "        lines = case.split('\\n')\n",
    "        print(lines)\n",
    "        # Parse input\n",
    "        a_line = lines[0].split(':')[1].strip()\n",
    "        b_line = lines[1].split(':')[1].strip()\n",
    "        p_line = lines[2].split(':')[1].strip()\n",
    "\n",
    "        # Extract vectors\n",
    "        A = np.array([int(x.strip().split(\"+\")[1]) for x in a_line.split(',')])\n",
    "        B = np.array([int(x.strip().split(\"+\")[1]) for x in b_line.split(',')])\n",
    "        P = np.array([int(x.strip().split(\"=\")[1]) for x in p_line.split(',')])\n",
    "        yield A, B, P"
   ]
  },
  {
   "cell_type": "code",
   "execution_count": null,
   "metadata": {},
   "outputs": [],
   "source": [
    "def solve_case(A, B, P):\n",
    "    # Solve system of equations\n",
    "    M = np.vstack([A, B]).T\n",
    "    try:\n",
    "        a, b = np.linalg.solve(M, P)\n",
    "\n",
    "        # Check if solution is integer and meets constraints\n",
    "        if (abs(a - round(a)) < 1e-10 and\n",
    "            abs(b - round(b)) < 1e-10 and\n",
    "            0 <= round(a) <= 100 and\n",
    "            0 <= round(b) <= 100):\n",
    "            return round(a), round(b)\n",
    "    except:\n",
    "        pass\n",
    "    return None"
   ]
  },
  {
   "cell_type": "code",
   "execution_count": null,
   "metadata": {},
   "outputs": [],
   "source": [
    "def solve_exact(A, B, P):\n",
    "    M = np.vstack([A, B]).T\n",
    "\n",
    "    a, b = sp.symbols('a b')\n",
    "    eq1 = sp.Eq(M[0][0]*a + M[0][1]*b, P[0])\n",
    "    eq2 = sp.Eq(M[1][0]*a + M[1][1]*b, P[1])\n",
    "\n",
    "    result = sp.solve((eq1, eq2), (a, b))\n",
    "\n",
    "    a, b = result[a], result[b]\n",
    "\n",
    "    if (abs(a - round(a)) < 1e-10 and\n",
    "        abs(b - round(b)) < 1e-10):\n",
    "        return round(a), round(b)\n",
    "    return None"
   ]
  },
  {
   "cell_type": "code",
   "execution_count": null,
   "metadata": {},
   "outputs": [],
   "source": [
    "# file = \"example\"\n",
    "file = \"input\""
   ]
  },
  {
   "cell_type": "code",
   "execution_count": null,
   "metadata": {},
   "outputs": [],
   "source": [
    "with open(file) as f:\n",
    "    cases = list(process_input(f.read()))"
   ]
  },
  {
   "cell_type": "code",
   "execution_count": null,
   "metadata": {},
   "outputs": [],
   "source": [
    "token = 0\n",
    "for case in cases:\n",
    "    solution = solve_case(*case)\n",
    "    if solution:\n",
    "        token += 3*solution[0] + 1*solution[1]\n",
    "        print(f\"Case {case[0]+1}: {solution}\")\n",
    "    else:\n",
    "        print(f\"Case {case[0]+1}: No solution found\")"
   ]
  },
  {
   "cell_type": "code",
   "execution_count": null,
   "metadata": {},
   "outputs": [],
   "source": [
    "token"
   ]
  },
  {
   "cell_type": "code",
   "execution_count": null,
   "metadata": {},
   "outputs": [],
   "source": [
    "token = 0\n",
    "for case in cases:\n",
    "    A, B, P = case\n",
    "    P = P + np.array([10000000000000, 10000000000000])\n",
    "    solution = solve_exact(A, B, P)\n",
    "    if solution:\n",
    "        token += 3*solution[0] + 1*solution[1]\n",
    "        print(f\"Case {case[0]+1}: {solution}\")\n",
    "    else:\n",
    "        print(f\"Case {case[0]+1}: No solution found\")"
   ]
  },
  {
   "cell_type": "code",
   "execution_count": null,
   "metadata": {},
   "outputs": [],
   "source": [
    "token"
   ]
  },
  {
   "cell_type": "code",
   "execution_count": null,
   "metadata": {},
   "outputs": [],
   "source": []
  }
 ],
 "metadata": {
  "kernelspec": {
   "display_name": "aoc2023",
   "language": "python",
   "name": "python3"
  },
  "language_info": {
   "codemirror_mode": {
    "name": "ipython",
    "version": 3
   },
   "file_extension": ".py",
   "mimetype": "text/x-python",
   "name": "python",
   "nbconvert_exporter": "python",
   "pygments_lexer": "ipython3",
   "version": "3.10.12"
  }
 },
 "nbformat": 4,
 "nbformat_minor": 2
}
