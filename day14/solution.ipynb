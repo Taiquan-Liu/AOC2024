{
 "cells": [
  {
   "cell_type": "code",
   "execution_count": null,
   "metadata": {},
   "outputs": [],
   "source": [
    "from collections import defaultdict"
   ]
  },
  {
   "cell_type": "code",
   "execution_count": null,
   "metadata": {},
   "outputs": [],
   "source": [
    "def parse_input(input_lines):\n",
    "    robots = []\n",
    "    for line in input_lines:\n",
    "        # Split position and velocity parts\n",
    "        p_part, v_part = line.split(' ')\n",
    "        # Parse position coordinates\n",
    "        px, py = map(int, p_part.split('=')[1].split(','))\n",
    "        # Parse velocity components\n",
    "        vx, vy = map(int, v_part.split('=')[1].split(','))\n",
    "        robots.append(((px, py), (vx, vy)))\n",
    "    return robots"
   ]
  },
  {
   "cell_type": "code",
   "execution_count": null,
   "metadata": {},
   "outputs": [],
   "source": [
    "def wrap_position(pos, vel, width, height):\n",
    "    x, y = pos\n",
    "    # Apply movement\n",
    "    x = (x + vel[0]) % width\n",
    "    y = (y + vel[1]) % height\n",
    "    return (x, y)"
   ]
  },
  {
   "cell_type": "code",
   "execution_count": null,
   "metadata": {},
   "outputs": [],
   "source": [
    "def simulate(robots, seconds, width, height):\n",
    "    final_positions = []\n",
    "    for pos, vel in robots:\n",
    "        current_pos = pos\n",
    "        # Apply movement for given number of seconds\n",
    "        for _ in range(seconds):\n",
    "            current_pos = wrap_position(current_pos, vel, width, height)\n",
    "        final_positions.append(current_pos)\n",
    "    return final_positions"
   ]
  },
  {
   "cell_type": "code",
   "execution_count": null,
   "metadata": {},
   "outputs": [],
   "source": [
    "def get_pos_in_quadrants(positions, width, height):\n",
    "    max_x = width - 1\n",
    "    max_y = height - 1\n",
    "    quadrants = defaultdict(int)\n",
    "\n",
    "    for pos in positions:\n",
    "        x, y = pos\n",
    "        if x < max_x // 2 and y < max_y // 2:\n",
    "            quadrants[0] += 1\n",
    "        if x > max_x // 2 and y < max_y // 2:\n",
    "            quadrants[1] += 1\n",
    "        if x < max_x // 2 and y > max_y // 2:\n",
    "            quadrants[2] += 1\n",
    "        if x > max_x // 2 and y > max_y // 2:\n",
    "            quadrants[3] += 1\n",
    "\n",
    "    result = 1\n",
    "    for quadrant in quadrants:\n",
    "        result *= quadrants[quadrant]\n",
    "\n",
    "    return result"
   ]
  },
  {
   "cell_type": "code",
   "execution_count": null,
   "metadata": {},
   "outputs": [],
   "source": [
    "file = \"example\"\n",
    "height = 7\n",
    "width = 11"
   ]
  },
  {
   "cell_type": "code",
   "execution_count": null,
   "metadata": {},
   "outputs": [],
   "source": [
    "file = \"input\"\n",
    "height = 103\n",
    "width = 101"
   ]
  },
  {
   "cell_type": "code",
   "execution_count": null,
   "metadata": {},
   "outputs": [],
   "source": [
    "with open(file) as f:\n",
    "    lines = f.readlines()"
   ]
  },
  {
   "cell_type": "code",
   "execution_count": null,
   "metadata": {},
   "outputs": [],
   "source": [
    "robots = parse_input(lines)\n",
    "final_positions = simulate(robots, 100, width, height)"
   ]
  },
  {
   "cell_type": "code",
   "execution_count": null,
   "metadata": {},
   "outputs": [],
   "source": [
    "get_pos_in_quadrants(final_positions, width, height)"
   ]
  },
  {
   "cell_type": "markdown",
   "metadata": {},
   "source": [
    "Is the \"christmas tree\" symmetrical?"
   ]
  },
  {
   "cell_type": "code",
   "execution_count": null,
   "metadata": {},
   "outputs": [],
   "source": [
    "def is_vertically_symmetric(positions, width):\n",
    "    # Convert positions to set for O(1) lookups\n",
    "    pos_set = set(positions)\n",
    "\n",
    "    # Check each position has matching reflection\n",
    "    for x, y in positions:\n",
    "        reflected_x = width - 1 - x\n",
    "        if (reflected_x, y) not in pos_set:\n",
    "            return False\n",
    "\n",
    "    return True"
   ]
  },
  {
   "cell_type": "code",
   "execution_count": null,
   "metadata": {},
   "outputs": [],
   "source": [
    "def find_first_symmetry(robots, width, height):\n",
    "    positions = [pos for pos, _ in robots]\n",
    "    velocities = [vel for _, vel in robots]\n",
    "\n",
    "    # Simulate until symmetry found\n",
    "    for second in range(1000000000):  # Large upper bound\n",
    "        # Move all robots one step\n",
    "        positions = [wrap_position(pos, vel, width, height) for pos, vel in zip(positions, velocities)]\n",
    "\n",
    "        # Check for symmetry\n",
    "        if is_vertically_symmetric(positions, width):\n",
    "            return second\n",
    "\n",
    "    return None"
   ]
  },
  {
   "cell_type": "markdown",
   "metadata": {},
   "source": [
    "Is the \"christmas tree\" a cluster of robots?"
   ]
  },
  {
   "cell_type": "code",
   "execution_count": null,
   "metadata": {},
   "outputs": [],
   "source": [
    "def get_adjacent_positions(pos):\n",
    "    x, y = pos\n",
    "    return {\n",
    "        (x+dx, y+dy)\n",
    "        for dx in [-1,0,1]\n",
    "        for dy in [-1,0,1]\n",
    "        if not (dx == 0 and dy == 0)\n",
    "    }"
   ]
  },
  {
   "cell_type": "code",
   "execution_count": null,
   "metadata": {},
   "outputs": [],
   "source": [
    "def find_clusters(positions):\n",
    "    clusters = []\n",
    "    visited = set()\n",
    "\n",
    "    def dfs(pos, cluster):\n",
    "        cluster.add(pos)\n",
    "        visited.add(pos)\n",
    "        for adj in get_adjacent_positions(pos):\n",
    "            if adj in positions and adj not in visited:\n",
    "                dfs(adj, cluster)\n",
    "\n",
    "    for pos in positions:\n",
    "        if pos not in visited:\n",
    "            cluster = set()\n",
    "            dfs(pos, cluster)\n",
    "            if len(cluster) > 1:  # Only track clusters of 2+ robots\n",
    "                clusters.append(cluster)\n",
    "\n",
    "    return clusters"
   ]
  },
  {
   "cell_type": "code",
   "execution_count": null,
   "metadata": {},
   "outputs": [],
   "source": [
    "def find_first_cluster_threshold(robots, width, height, threshold=0.4):\n",
    "    positions = [pos for pos, _ in robots]\n",
    "    velocities = [vel for _, vel in robots]\n",
    "    robot_count = len(robots)\n",
    "    min_cluster_size = int(robot_count * threshold)\n",
    "\n",
    "    for second in range(1000000):\n",
    "        print(second)\n",
    "        # Move all robots one step\n",
    "        new_states = [(wrap_position(pos, vel, width, height), vel)\n",
    "                     for pos, vel in zip(positions, velocities)]\n",
    "        positions = [pos for pos, _ in new_states]\n",
    "        velocities = [vel for _, vel in new_states]\n",
    "\n",
    "        # Check for clusters\n",
    "        clusters = find_clusters(positions)\n",
    "        if any(len(cluster) >= min_cluster_size for cluster in clusters):\n",
    "            return second + 1\n",
    "\n",
    "    return None"
   ]
  },
  {
   "cell_type": "code",
   "execution_count": null,
   "metadata": {},
   "outputs": [],
   "source": [
    "robots = parse_input(lines)\n",
    "min_seconds = find_first_cluster_threshold(robots, width, height)\n",
    "print(f\"First large cluster occurs at {min_seconds + 1} seconds\")"
   ]
  },
  {
   "cell_type": "code",
   "execution_count": null,
   "metadata": {},
   "outputs": [],
   "source": []
  }
 ],
 "metadata": {
  "kernelspec": {
   "display_name": "aoc2023",
   "language": "python",
   "name": "python3"
  },
  "language_info": {
   "codemirror_mode": {
    "name": "ipython",
    "version": 3
   },
   "file_extension": ".py",
   "mimetype": "text/x-python",
   "name": "python",
   "nbconvert_exporter": "python",
   "pygments_lexer": "ipython3",
   "version": "3.10.12"
  }
 },
 "nbformat": 4,
 "nbformat_minor": 2
}
