{
 "cells": [
  {
   "cell_type": "code",
   "execution_count": null,
   "metadata": {},
   "outputs": [],
   "source": [
    "import networkx as nx"
   ]
  },
  {
   "cell_type": "code",
   "execution_count": null,
   "metadata": {},
   "outputs": [],
   "source": [
    "# file = \"example\"\n",
    "file = \"input\""
   ]
  },
  {
   "cell_type": "code",
   "execution_count": null,
   "metadata": {},
   "outputs": [],
   "source": [
    "def load_file(file_path):\n",
    "    with open(file_path, 'r') as file:\n",
    "        lines = file.read().strip().split('\\n')\n",
    "\n",
    "    edges = []\n",
    "    test_nodes = []\n",
    "\n",
    "    for line in lines:\n",
    "        if '|' in line:\n",
    "            edges.append(tuple(map(int, line.split('|'))))\n",
    "        elif ',' in line:\n",
    "            test_nodes.append(list(map(int, line.split(','))))\n",
    "\n",
    "    return edges, test_nodes"
   ]
  },
  {
   "cell_type": "code",
   "execution_count": null,
   "metadata": {},
   "outputs": [],
   "source": [
    "edges, test_nodes = load_file(file)\n",
    "print(edges)\n",
    "print(test_nodes)"
   ]
  },
  {
   "cell_type": "code",
   "execution_count": null,
   "metadata": {},
   "outputs": [],
   "source": [
    "G = nx.from_edgelist(edges, create_using=nx.DiGraph)\n",
    "\n",
    "# assert nx.is_directed_acyclic_graph(G), \"AOC is dumb\"\n",
    "\n",
    "# # Perform transitive reduction\n",
    "# R = nx.transitive_reduction(G)\n",
    "R = G  # (Sigh... AOC is providing a non-DAG)"
   ]
  },
  {
   "cell_type": "code",
   "execution_count": null,
   "metadata": {},
   "outputs": [],
   "source": [
    "nx.has_path(R, 75, 97)"
   ]
  },
  {
   "cell_type": "code",
   "execution_count": null,
   "metadata": {},
   "outputs": [],
   "source": [
    "mid_nodes = []\n",
    "pathes = []\n",
    "\n",
    "for nodes in test_nodes:\n",
    "    has_pathes = True\n",
    "    for i in range(len(nodes) - 1):\n",
    "        u = nodes[i]\n",
    "        v = nodes[i + 1]\n",
    "        # if not nx.has_path(R, u, v):\n",
    "        if (u, v) not in R.edges:\n",
    "            has_pathes = False\n",
    "            break\n",
    "    if has_pathes:\n",
    "        pathes.append(nodes)\n",
    "        mid_node = nodes[len(nodes) // 2]\n",
    "        mid_nodes.append(mid_node)\n"
   ]
  },
  {
   "cell_type": "code",
   "execution_count": null,
   "metadata": {},
   "outputs": [],
   "source": [
    "pathes"
   ]
  },
  {
   "cell_type": "code",
   "execution_count": null,
   "metadata": {},
   "outputs": [],
   "source": [
    "mid_nodes"
   ]
  },
  {
   "cell_type": "code",
   "execution_count": null,
   "metadata": {},
   "outputs": [],
   "source": [
    "sum(mid_nodes)"
   ]
  },
  {
   "cell_type": "code",
   "execution_count": null,
   "metadata": {},
   "outputs": [],
   "source": [
    "mid_nodes_reordered = []\n",
    "paths_reordered = []\n",
    "\n",
    "for nodes in test_nodes:\n",
    "    has_pathes = True\n",
    "    sorted = False\n",
    "    while not sorted:\n",
    "        sorted = True\n",
    "        for i in range(len(nodes) - 1):\n",
    "            u = nodes[i]\n",
    "            v = nodes[i + 1]\n",
    "            if (u, v) not in R.edges:\n",
    "                has_pathes = False\n",
    "                sorted = False\n",
    "                print(f\"Swapping {u} and {v}\")\n",
    "                nodes[i], nodes[i + 1] = v, u\n",
    "    # more_sorting = False\n",
    "    # for i in range(len(nodes) - 1):\n",
    "    #     u = nodes[i]\n",
    "    #     v = nodes[i + 1]\n",
    "    #     # if not nx.has_path(R, u, v):\n",
    "    #     if (u, v) not in R.edges:\n",
    "    #         has_pathes = False\n",
    "    #         assert (v, u) in R.edges, \"AOC is dumb\"\n",
    "    #         nodes[i], nodes[i + 1] = v, u\n",
    "    if not has_pathes:\n",
    "        paths_reordered.append(nodes)\n",
    "        mid_node = nodes[len(nodes) // 2]\n",
    "        mid_nodes_reordered.append(mid_node)"
   ]
  },
  {
   "cell_type": "code",
   "execution_count": null,
   "metadata": {},
   "outputs": [],
   "source": [
    "paths_reordered"
   ]
  },
  {
   "cell_type": "code",
   "execution_count": null,
   "metadata": {},
   "outputs": [],
   "source": [
    "(29, 47) in R.edges"
   ]
  },
  {
   "cell_type": "code",
   "execution_count": null,
   "metadata": {},
   "outputs": [],
   "source": [
    "mid_nodes_reordered"
   ]
  },
  {
   "cell_type": "code",
   "execution_count": null,
   "metadata": {},
   "outputs": [],
   "source": [
    "sum(mid_nodes_reordered)"
   ]
  },
  {
   "cell_type": "code",
   "execution_count": null,
   "metadata": {},
   "outputs": [],
   "source": []
  }
 ],
 "metadata": {
  "kernelspec": {
   "display_name": "aoc2023",
   "language": "python",
   "name": "python3"
  },
  "language_info": {
   "codemirror_mode": {
    "name": "ipython",
    "version": 3
   },
   "file_extension": ".py",
   "mimetype": "text/x-python",
   "name": "python",
   "nbconvert_exporter": "python",
   "pygments_lexer": "ipython3",
   "version": "3.10.12"
  }
 },
 "nbformat": 4,
 "nbformat_minor": 2
}
