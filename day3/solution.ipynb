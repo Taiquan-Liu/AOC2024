{
 "cells": [
  {
   "cell_type": "code",
   "execution_count": null,
   "metadata": {},
   "outputs": [],
   "source": [
    "import collections\n",
    "import re\n",
    "from itertools import islice"
   ]
  },
  {
   "cell_type": "code",
   "execution_count": null,
   "metadata": {},
   "outputs": [],
   "source": [
    "def sliding_window(iterable, n):\n",
    "    \"Collect data into overlapping fixed-length chunks or blocks.\"\n",
    "    # sliding_window('ABCDEFG', 4) → ABCD BCDE CDEF DEFG\n",
    "    iterator = iter(iterable)\n",
    "    window = collections.deque(islice(iterator, n - 1), maxlen=n)\n",
    "    for x in iterator:\n",
    "        window.append(x)\n",
    "        yield tuple(window)"
   ]
  },
  {
   "cell_type": "code",
   "execution_count": null,
   "metadata": {},
   "outputs": [],
   "source": [
    "list(sliding_window('ABCDEFG', 4))"
   ]
  },
  {
   "cell_type": "code",
   "execution_count": null,
   "metadata": {},
   "outputs": [],
   "source": [
    "# file = \"example\"\n",
    "# file = \"example2\"\n",
    "file = \"input\""
   ]
  },
  {
   "cell_type": "code",
   "execution_count": null,
   "metadata": {},
   "outputs": [],
   "source": [
    "with open(file, 'r') as f:\n",
    "    data = f.read()"
   ]
  },
  {
   "cell_type": "code",
   "execution_count": null,
   "metadata": {},
   "outputs": [],
   "source": [
    "def find_matches_question_1(data, window_size=12):\n",
    "    pattern = re.compile(r'mul\\(\\d{1,3},\\d{1,3}\\)')\n",
    "    matches = list()\n",
    "    for window in sliding_window(data, window_size):\n",
    "        window_str = ''.join(window)\n",
    "        for match in pattern.findall(window_str):\n",
    "            if not matches or match != matches[-1]:\n",
    "                matches.append(match)\n",
    "    return matches"
   ]
  },
  {
   "cell_type": "code",
   "execution_count": null,
   "metadata": {},
   "outputs": [],
   "source": [
    "matches_question_1 = find_matches_question_1(data)"
   ]
  },
  {
   "cell_type": "code",
   "execution_count": null,
   "metadata": {},
   "outputs": [],
   "source": [
    "def calculate_muls(matches):\n",
    "    \"\"\"Calculate the result of multiplications and additions, e.g.\n",
    "    {mul(123,456), mul(789,10)} -> 123*456 + 789*10\"\"\"\n",
    "    result = 0\n",
    "    for match in matches:\n",
    "        a, b = map(int, match[4:-1].split(','))\n",
    "        result += a * b\n",
    "    return result"
   ]
  },
  {
   "cell_type": "code",
   "execution_count": null,
   "metadata": {},
   "outputs": [],
   "source": [
    "calculate_muls(matches_question_1)"
   ]
  },
  {
   "cell_type": "code",
   "execution_count": null,
   "metadata": {},
   "outputs": [],
   "source": [
    "def find_matches_question_2(data, window_size=12):\n",
    "    pattern = re.compile(r\"do\\(\\)|don't\\(\\)|mul\\(\\d{1,3},\\d{1,3}\\)\")\n",
    "    matches = list()\n",
    "    do = True\n",
    "    for window in sliding_window(data, window_size):\n",
    "        window_str = ''.join(window)\n",
    "        for match in pattern.findall(window_str):\n",
    "            # This logic hides a bug for e.g. \"mul(1,2)..do()..mul(1,2)\" where\n",
    "            # the second mul(1,2) won't be calculated. But the data doesn't have\n",
    "            # such cases.\n",
    "            if match == \"do()\":\n",
    "                do = True\n",
    "            elif match == \"don't()\":\n",
    "                do = False\n",
    "            elif do and (not matches or match != matches[-1]):\n",
    "                matches.append(match)\n",
    "    return matches"
   ]
  },
  {
   "cell_type": "code",
   "execution_count": null,
   "metadata": {},
   "outputs": [],
   "source": [
    "matches_question_2 = find_matches_question_2(data)\n",
    "matches_question_2"
   ]
  },
  {
   "cell_type": "code",
   "execution_count": null,
   "metadata": {},
   "outputs": [],
   "source": [
    "calculate_muls(matches_question_2)"
   ]
  },
  {
   "cell_type": "code",
   "execution_count": null,
   "metadata": {},
   "outputs": [],
   "source": []
  }
 ],
 "metadata": {
  "kernelspec": {
   "display_name": "aoc2023",
   "language": "python",
   "name": "python3"
  },
  "language_info": {
   "codemirror_mode": {
    "name": "ipython",
    "version": 3
   },
   "file_extension": ".py",
   "mimetype": "text/x-python",
   "name": "python",
   "nbconvert_exporter": "python",
   "pygments_lexer": "ipython3",
   "version": "3.10.12"
  }
 },
 "nbformat": 4,
 "nbformat_minor": 2
}
