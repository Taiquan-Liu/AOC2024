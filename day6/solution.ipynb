{
 "cells": [
  {
   "cell_type": "code",
   "execution_count": null,
   "metadata": {},
   "outputs": [],
   "source": [
    "import copy\n",
    "from collections import defaultdict"
   ]
  },
  {
   "cell_type": "code",
   "execution_count": null,
   "metadata": {},
   "outputs": [],
   "source": [
    "# file = \"example\"\n",
    "file = \"input\""
   ]
  },
  {
   "cell_type": "code",
   "execution_count": null,
   "metadata": {},
   "outputs": [],
   "source": [
    "with open(file, \"r\") as f:\n",
    "    map = list(row.strip() for row in f.readlines())\n",
    "\n",
    "map"
   ]
  },
  {
   "cell_type": "code",
   "execution_count": null,
   "metadata": {},
   "outputs": [],
   "source": [
    "directions = {'^': (-1, 0), '>': (0, 1), 'v': (1, 0), '<': (0, -1)}"
   ]
  },
  {
   "cell_type": "code",
   "execution_count": null,
   "metadata": {},
   "outputs": [],
   "source": [
    "def out_of_bounds(pos, map):\n",
    "    return pos[0] < 0 or pos[0] >= len(map) or pos[1] < 0 or pos[1] >= len(map[0])"
   ]
  },
  {
   "cell_type": "code",
   "execution_count": null,
   "metadata": {},
   "outputs": [],
   "source": [
    "def is_obstruction(pos, map):\n",
    "    return map[pos[0]][pos[1]] == '#'"
   ]
  },
  {
   "cell_type": "code",
   "execution_count": null,
   "metadata": {},
   "outputs": [],
   "source": [
    "def move_forward(pos, dir):\n",
    "    return (pos[0] + directions[dir][0], pos[1] + directions[dir][1])"
   ]
  },
  {
   "cell_type": "code",
   "execution_count": null,
   "metadata": {},
   "outputs": [],
   "source": [
    "def turn_right(direction):\n",
    "    turns = {'^': '>', '>': 'v', 'v': '<', '<': '^'}\n",
    "    return turns[direction]"
   ]
  },
  {
   "cell_type": "code",
   "execution_count": null,
   "metadata": {},
   "outputs": [],
   "source": [
    "def parse_map(map):\n",
    "    guard_pos = None\n",
    "    guard_dir = None\n",
    "    for r, line in enumerate(map):\n",
    "        for c, char in enumerate(line):\n",
    "            if char in directions:\n",
    "                guard_pos = (r, c)\n",
    "                guard_dir = char\n",
    "                break\n",
    "        if guard_pos:\n",
    "            break\n",
    "    return guard_pos, guard_dir"
   ]
  },
  {
   "cell_type": "code",
   "execution_count": null,
   "metadata": {},
   "outputs": [],
   "source": [
    "def patrol_path(map, guard_pos, guard_dir):\n",
    "    path = set()\n",
    "    while True:\n",
    "        path.add(guard_pos)\n",
    "        next_pos = move_forward(guard_pos, guard_dir)\n",
    "        if out_of_bounds(next_pos, map):\n",
    "            break\n",
    "        elif is_obstruction(next_pos, map):\n",
    "            guard_dir = turn_right(guard_dir)\n",
    "            guard_pos = move_forward(guard_pos, guard_dir)\n",
    "        else:\n",
    "            guard_pos = next_pos\n",
    "    return path"
   ]
  },
  {
   "cell_type": "code",
   "execution_count": null,
   "metadata": {},
   "outputs": [],
   "source": [
    "init_guard_pos, init_guard_dir = parse_map(map)\n",
    "path = patrol_path(map, init_guard_pos, init_guard_dir)\n",
    "len(path)"
   ]
  },
  {
   "cell_type": "code",
   "execution_count": null,
   "metadata": {},
   "outputs": [],
   "source": [
    "path"
   ]
  },
  {
   "cell_type": "code",
   "execution_count": null,
   "metadata": {},
   "outputs": [],
   "source": [
    "def add_extra_obstacle(map, position):\n",
    "    new_map = copy.deepcopy(map)\n",
    "    new_map = [list(row) for row in new_map]\n",
    "    new_map[position[0]][position[1]] = '#'\n",
    "    return new_map"
   ]
  },
  {
   "cell_type": "code",
   "execution_count": null,
   "metadata": {},
   "outputs": [],
   "source": [
    "def familiar_obstacle(hit_obstacles, guard_info, obstacle_pos):\n",
    "    if guard_info in hit_obstacles[obstacle_pos]:\n",
    "        # print(f\"Guard {guard_info[0]} from {guard_info[1]} direction has hit {obstacle_pos}\")\n",
    "        # print(f\"All previous hits {hit_obstacles}\")\n",
    "        return True"
   ]
  },
  {
   "cell_type": "code",
   "execution_count": null,
   "metadata": {},
   "outputs": [],
   "source": [
    "def patrol_path_is_loop(map, guard_pos, guard_dir):\n",
    "    # path = list()\n",
    "    hit_obstacles = defaultdict(set)\n",
    "    while True:\n",
    "        next_pos = move_forward(guard_pos, guard_dir)\n",
    "        if out_of_bounds(next_pos, map):\n",
    "            break\n",
    "        elif is_obstruction(next_pos, map):\n",
    "            if familiar_obstacle(hit_obstacles, (guard_pos, guard_dir), next_pos):\n",
    "                return True\n",
    "            hit_obstacles[next_pos].add((guard_pos, guard_dir))\n",
    "            guard_dir = turn_right(guard_dir)\n",
    "        else:\n",
    "            guard_pos = next_pos"
   ]
  },
  {
   "cell_type": "code",
   "execution_count": null,
   "metadata": {},
   "outputs": [],
   "source": [
    "positions = set()\n",
    "for pos in set(path) - {init_guard_pos}:\n",
    "    if patrol_path_is_loop(add_extra_obstacle(map, pos), init_guard_pos, init_guard_dir):\n",
    "        positions.add(pos)\n",
    "\n",
    "positions"
   ]
  },
  {
   "cell_type": "code",
   "execution_count": null,
   "metadata": {},
   "outputs": [],
   "source": [
    "len(positions)"
   ]
  },
  {
   "cell_type": "code",
   "execution_count": null,
   "metadata": {},
   "outputs": [],
   "source": []
  }
 ],
 "metadata": {
  "kernelspec": {
   "display_name": "aoc2023",
   "language": "python",
   "name": "python3"
  },
  "language_info": {
   "codemirror_mode": {
    "name": "ipython",
    "version": 3
   },
   "file_extension": ".py",
   "mimetype": "text/x-python",
   "name": "python",
   "nbconvert_exporter": "python",
   "pygments_lexer": "ipython3",
   "version": "3.10.12"
  }
 },
 "nbformat": 4,
 "nbformat_minor": 2
}
