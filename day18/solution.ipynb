{
 "cells": [
  {
   "cell_type": "code",
   "execution_count": null,
   "metadata": {},
   "outputs": [],
   "source": [
    "from heapq import heappush, heappop\n",
    "from dataclasses import dataclass\n",
    "from typing import List, Set, Tuple, Dict\n",
    "from array import array"
   ]
  },
  {
   "cell_type": "code",
   "execution_count": null,
   "metadata": {},
   "outputs": [],
   "source": [
    "@dataclass\n",
    "class Node:\n",
    "    x: int\n",
    "    y: int\n",
    "    g: int = 0\n",
    "    parent: 'Node' = None\n",
    "\n",
    "    def __eq__(self, other):\n",
    "        return self.x == other.x and self.y == other.y\n",
    "\n",
    "    def __hash__(self):\n",
    "        return self.x * 1000 + self.y  # Faster than tuple hash"
   ]
  },
  {
   "cell_type": "code",
   "execution_count": null,
   "metadata": {},
   "outputs": [],
   "source": [
    "class PathFinder:\n",
    "    def __init__(self, width: int, height: int):\n",
    "        self.width = width\n",
    "        self.height = height\n",
    "        # Use array for obstacle grid - much faster than set\n",
    "        self.grid = [[False] * height for _ in range(width)]\n",
    "        # Pre-allocate neighbor offsets\n",
    "        self.directions = [(0,1), (1,0), (0,-1), (-1,0)]\n",
    "\n",
    "    def load_obstacles(self, filename: str, limit: int):\n",
    "        with open(filename) as f:\n",
    "            for n, line in enumerate(f):\n",
    "                if n >= limit:\n",
    "                    break\n",
    "                x, y = map(int, line.strip().split(','))\n",
    "                self.grid[x][y] = True\n",
    "\n",
    "    def manhattan_distance(self, x1: int, y1: int, x2: int, y2: int) -> int:\n",
    "        return abs(x1 - x2) + abs(y1 - y2)\n",
    "\n",
    "    def find_path(\n",
    "            self,\n",
    "            start: Tuple[int, int],\n",
    "            goal: Tuple[int, int]\n",
    "        ) -> List[Tuple[int, int]]:\n",
    "\n",
    "        start_x, start_y = start\n",
    "        goal_x, goal_y = goal\n",
    "\n",
    "        # Use dictionary to track g scores\n",
    "        g_scores: Dict[Tuple[int, int], int] = {(start_x, start_y): 0}\n",
    "\n",
    "        # Use tuples in heap: (f_score, g_score, x, y, parent_x, parent_y)\n",
    "        open_set = [(0, 0, start_x, start_y, -1, -1)]\n",
    "\n",
    "        # Track parents for reconstruction\n",
    "        came_from: Dict[Tuple[int, int], Tuple[int, int]] = {}\n",
    "\n",
    "        while open_set:\n",
    "            f, g, x, y, parent_x, parent_y = heappop(open_set)\n",
    "\n",
    "            current_pos = (x, y)\n",
    "\n",
    "            # Found goal\n",
    "            if x == goal_x and y == goal_y:\n",
    "                path = []\n",
    "                while current_pos in came_from:\n",
    "                    path.append(current_pos)\n",
    "                    current_pos = came_from[current_pos]\n",
    "                path.append((start_x, start_y))\n",
    "                return path[::-1]\n",
    "\n",
    "            # Check neighbors\n",
    "            for dx, dy in self.directions:\n",
    "                new_x, new_y = x + dx, y + dy\n",
    "\n",
    "                if not (0 <= new_x < self.width and 0 <= new_y < self.height):\n",
    "                    continue\n",
    "\n",
    "                if self.grid[new_x][new_y]:\n",
    "                    continue\n",
    "\n",
    "                neighbor_pos = (new_x, new_y)\n",
    "                tentative_g = g + 1\n",
    "\n",
    "                if neighbor_pos in g_scores and tentative_g >= g_scores[neighbor_pos]:\n",
    "                    continue\n",
    "\n",
    "                came_from[neighbor_pos] = current_pos\n",
    "                g_scores[neighbor_pos] = tentative_g\n",
    "                f = tentative_g + self.manhattan_distance(new_x, new_y, goal_x, goal_y)\n",
    "\n",
    "                heappush(open_set, (f, tentative_g, new_x, new_y, x, y))\n",
    "\n",
    "        return []"
   ]
  },
  {
   "cell_type": "code",
   "execution_count": null,
   "metadata": {},
   "outputs": [],
   "source": [
    "# file = \"example\"\n",
    "# width = 7\n",
    "# height = 7\n",
    "# limit = 12\n",
    "\n",
    "file = \"input\"\n",
    "width = 71\n",
    "height = 71\n",
    "limit = 1024"
   ]
  },
  {
   "cell_type": "code",
   "execution_count": null,
   "metadata": {},
   "outputs": [],
   "source": [
    "finder = PathFinder(width, height)\n",
    "finder.load_obstacles(file, limit)\n",
    "path = finder.find_path((0,0), (width-1, height-1))"
   ]
  },
  {
   "cell_type": "code",
   "execution_count": null,
   "metadata": {},
   "outputs": [],
   "source": [
    "path"
   ]
  },
  {
   "cell_type": "code",
   "execution_count": null,
   "metadata": {},
   "outputs": [],
   "source": [
    "len(path) - 1"
   ]
  },
  {
   "cell_type": "code",
   "execution_count": null,
   "metadata": {},
   "outputs": [],
   "source": [
    "def find_breaking_obstacle(\n",
    "        filename: str,\n",
    "        width: int,\n",
    "        height: int,\n",
    "    ) -> Tuple[int, int]:\n",
    "\n",
    "    with open(filename) as f:\n",
    "        lines = f.readlines()\n",
    "    max_limit = len(lines)\n",
    "\n",
    "    left = 0\n",
    "    right = max_limit\n",
    "\n",
    "    while left < right:\n",
    "        mid = (left + right + 1) // 2\n",
    "\n",
    "        finder = PathFinder(width, height)\n",
    "        finder.load_obstacles(filename, mid)\n",
    "        path = finder.find_path((0,0), (width-1, height-1))\n",
    "\n",
    "        if path:  # Path exists\n",
    "            left = mid\n",
    "        else:  # No path\n",
    "            right = mid - 1\n",
    "\n",
    "    # left is now the last working limit\n",
    "    # breaking obstacle is at index left + 1\n",
    "    for i, line in enumerate(lines):\n",
    "        if i == left:\n",
    "            x, y = map(int, line.strip().split(','))\n",
    "            return x, y\n",
    "\n",
    "    return -1, -1  # Should not reach here"
   ]
  },
  {
   "cell_type": "code",
   "execution_count": null,
   "metadata": {},
   "outputs": [],
   "source": [
    "find_breaking_obstacle(file, width, height)"
   ]
  },
  {
   "cell_type": "code",
   "execution_count": null,
   "metadata": {},
   "outputs": [],
   "source": []
  }
 ],
 "metadata": {
  "kernelspec": {
   "display_name": "aoc2023",
   "language": "python",
   "name": "python3"
  },
  "language_info": {
   "codemirror_mode": {
    "name": "ipython",
    "version": 3
   },
   "file_extension": ".py",
   "mimetype": "text/x-python",
   "name": "python",
   "nbconvert_exporter": "python",
   "pygments_lexer": "ipython3",
   "version": "3.10.12"
  }
 },
 "nbformat": 4,
 "nbformat_minor": 2
}
