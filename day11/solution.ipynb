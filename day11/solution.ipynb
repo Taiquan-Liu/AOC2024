{
 "cells": [
  {
   "cell_type": "code",
   "execution_count": null,
   "metadata": {},
   "outputs": [],
   "source": [
    "from collections import defaultdict\n"
   ]
  },
  {
   "cell_type": "markdown",
   "metadata": {},
   "source": [
    "Naive implementation"
   ]
  },
  {
   "cell_type": "code",
   "execution_count": null,
   "metadata": {},
   "outputs": [],
   "source": [
    "def mutate_array(arr):\n",
    "    result = []\n",
    "    even_count = 0\n",
    "    zero_count = 0\n",
    "    for num in arr:\n",
    "        if num == 0:\n",
    "            result.append(1)\n",
    "            zero_count += 1\n",
    "        else:\n",
    "            num_str = str(num)\n",
    "            if len(num_str) % 2 == 0:\n",
    "                mid = len(num_str) // 2\n",
    "                first_half = int(num_str[:mid])\n",
    "                second_half = int(num_str[mid:])\n",
    "                result.extend([first_half, second_half])\n",
    "                even_count += 1\n",
    "            else:\n",
    "                result.append(num * 2024)\n",
    "    return result, even_count, zero_count"
   ]
  },
  {
   "cell_type": "code",
   "execution_count": null,
   "metadata": {},
   "outputs": [],
   "source": [
    "def mutate_steps(arr, steps):\n",
    "    for _ in range(steps):\n",
    "        arr, even_count, zero_count = mutate_array(arr)\n",
    "        # print(f\"Step {_ + 1}: {len(arr)}: {even_count} even, {zero_count} zero, {len(arr) - even_count - zero_count} odd\")\n",
    "    return arr"
   ]
  },
  {
   "cell_type": "markdown",
   "metadata": {},
   "source": [
    "Calculate numbers one by one"
   ]
  },
  {
   "cell_type": "code",
   "execution_count": null,
   "metadata": {},
   "outputs": [],
   "source": [
    "def get_count(arr):\n",
    "    counter = defaultdict(int)\n",
    "    for x in arr:\n",
    "        counter[x] += 1\n",
    "    return counter"
   ]
  },
  {
   "cell_type": "code",
   "execution_count": null,
   "metadata": {},
   "outputs": [],
   "source": [
    "def blink(x):\n",
    "    if x == 0:\n",
    "        return [1]\n",
    "    x_str = str(x)\n",
    "    if len(x_str) % 2 == 0:\n",
    "        mid = len(x_str) // 2\n",
    "        first_half = int(x_str[:mid])\n",
    "        second_half = int(x_str[mid:])\n",
    "        return [first_half, second_half]\n",
    "    else:\n",
    "        return [x * 2024]"
   ]
  },
  {
   "cell_type": "code",
   "execution_count": null,
   "metadata": {},
   "outputs": [],
   "source": [
    "def blink_with_count(item):\n",
    "    x, counter = item\n",
    "    return [(y, counter) for y in blink(x)]"
   ]
  },
  {
   "cell_type": "code",
   "execution_count": null,
   "metadata": {},
   "outputs": [],
   "source": [
    "def solve(n, arr):\n",
    "    counter = get_count(arr)\n",
    "    for _ in range(n):\n",
    "        new_counter = defaultdict(int)\n",
    "        for item in counter.items():\n",
    "            for y, count in blink_with_count(item):\n",
    "                new_counter[y] += count\n",
    "        counter = new_counter\n",
    "    return sum(counter.values())"
   ]
  },
  {
   "cell_type": "code",
   "execution_count": null,
   "metadata": {},
   "outputs": [],
   "source": [
    "# file = \"example\"\n",
    "file = \"input\""
   ]
  },
  {
   "cell_type": "code",
   "execution_count": null,
   "metadata": {},
   "outputs": [],
   "source": [
    "with open(file) as f:\n",
    "    arr = list(map(int, f.readline().split()))"
   ]
  },
  {
   "cell_type": "code",
   "execution_count": null,
   "metadata": {},
   "outputs": [],
   "source": [
    "len(mutate_steps(arr, 25))"
   ]
  },
  {
   "cell_type": "code",
   "execution_count": null,
   "metadata": {},
   "outputs": [],
   "source": [
    "solve(75, arr)"
   ]
  },
  {
   "cell_type": "code",
   "execution_count": null,
   "metadata": {},
   "outputs": [],
   "source": []
  }
 ],
 "metadata": {
  "kernelspec": {
   "display_name": "aoc2023",
   "language": "python",
   "name": "python3"
  },
  "language_info": {
   "codemirror_mode": {
    "name": "ipython",
    "version": 3
   },
   "file_extension": ".py",
   "mimetype": "text/x-python",
   "name": "python",
   "nbconvert_exporter": "python",
   "pygments_lexer": "ipython3",
   "version": "3.10.12"
  }
 },
 "nbformat": 4,
 "nbformat_minor": 2
}
