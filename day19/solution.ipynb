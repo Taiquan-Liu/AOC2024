{
 "cells": [
  {
   "cell_type": "code",
   "execution_count": 1,
   "metadata": {},
   "outputs": [],
   "source": [
    "def can_construct(target: str, pieces: set) -> bool:\n",
    "    n = len(target)\n",
    "    dp = [False] * (n + 1)\n",
    "    dp[0] = True  # Empty string is always constructible\n",
    "\n",
    "    for i in range(n):\n",
    "        if not dp[i]:\n",
    "            continue\n",
    "\n",
    "        for piece in pieces:\n",
    "            if target[i:].startswith(piece):\n",
    "                dp[i + len(piece)] = True\n",
    "\n",
    "    return dp[n]"
   ]
  },
  {
   "cell_type": "code",
   "execution_count": 7,
   "metadata": {},
   "outputs": [],
   "source": [
    "def count_constructions(target: str, pieces: set) -> int:\n",
    "    n = len(target)\n",
    "    # dp[i] stores number of ways to construct string up to position i\n",
    "    dp = [0] * (n + 1)\n",
    "    dp[0] = 1  # Empty string has 1 way to construct\n",
    "\n",
    "    for i in range(n):\n",
    "        if dp[i] == 0:  # If we can't reach this position, skip\n",
    "            continue\n",
    "\n",
    "        for piece in pieces:\n",
    "            if target[i:].startswith(piece):\n",
    "                # Add number of ways to reach current position\n",
    "                dp[i + len(piece)] += dp[i]\n",
    "\n",
    "    return dp[n]"
   ]
  },
  {
   "cell_type": "code",
   "execution_count": 8,
   "metadata": {},
   "outputs": [],
   "source": [
    "def solve(input_text: str) -> int:\n",
    "    # Parse input\n",
    "    lines = input_text.strip().split('\\n')\n",
    "    pieces = {piece.strip() for piece in lines[0].split(',')}\n",
    "\n",
    "    # Get target patterns (skip empty line after pieces)\n",
    "    patterns = [line.strip() for line in lines[2:] if line.strip()]\n",
    "\n",
    "    # Count constructible patterns\n",
    "    return sum(1 for pattern in patterns if can_construct(pattern, pieces)), \\\n",
    "           sum(count_constructions(pattern, pieces) for pattern in patterns)"
   ]
  },
  {
   "cell_type": "code",
   "execution_count": 9,
   "metadata": {},
   "outputs": [],
   "source": [
    "# file = \"example\"\n",
    "file = \"input\""
   ]
  },
  {
   "cell_type": "code",
   "execution_count": null,
   "metadata": {},
   "outputs": [
    {
     "name": "stdout",
     "output_type": "stream",
     "text": [
      "(242, 595975512785325)\n"
     ]
    }
   ],
   "source": [
    "with open(file, 'r') as f:\n",
    "    input_text = f.read()\n",
    "result = solve(input_text)\n",
    "print(result)"
   ]
  },
  {
   "cell_type": "code",
   "execution_count": null,
   "metadata": {},
   "outputs": [],
   "source": []
  }
 ],
 "metadata": {
  "kernelspec": {
   "display_name": "aoc2023",
   "language": "python",
   "name": "python3"
  },
  "language_info": {
   "codemirror_mode": {
    "name": "ipython",
    "version": 3
   },
   "file_extension": ".py",
   "mimetype": "text/x-python",
   "name": "python",
   "nbconvert_exporter": "python",
   "pygments_lexer": "ipython3",
   "version": "3.10.12"
  }
 },
 "nbformat": 4,
 "nbformat_minor": 2
}
